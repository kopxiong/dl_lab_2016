{
 "cells": [
  {
   "cell_type": "code",
   "execution_count": 1,
   "metadata": {
    "scrolled": true
   },
   "outputs": [
    {
     "name": "stdout",
     "output_type": "stream",
     "text": [
      "Using matplotlib backend: TkAgg\n"
     ]
    }
   ],
   "source": [
    "import numpy as np\n",
    "import cPickle        \n",
    "import os\n",
    "import gzip        \n",
    "import math\n",
    "import matplotlib.pyplot as plt\n",
    "\n",
    "%matplotlib inline\n",
    "\n",
    "# for auto-reloading external modules\n",
    "# see http://stackoverflow.com/questions/1907993/autoreload-of-modules-in-ipython\n",
    "%load_ext autoreload\n",
    "%autoreload 2"
   ]
  },
  {
   "cell_type": "markdown",
   "metadata": {},
   "source": [
    "# First exercise: Classifying MNIST with MLPs\n",
    "In this exercise you will implement a Neural Network (or MLP) and classify the MNIST digits with it.\n",
    "MNIST is a \"well hung\" dataset that has been used a lot over the years to benchmark different classification algorithms. \n",
    "To learn more about it have a look here: http://yann.lecun.com/exdb/mnist/ ."
   ]
  },
  {
   "cell_type": "markdown",
   "metadata": {},
   "source": [
    "# Data Loading\n",
    "We first define a function for downloading and loading MNIST.\n",
    "**WARNING**: Executing it will obviously use up some space on your machine ;). "
   ]
  },
  {
   "cell_type": "code",
   "execution_count": 2,
   "metadata": {
    "scrolled": true
   },
   "outputs": [],
   "source": [
    "def mnist(datasets_dir = './data'):\n",
    "    if not os.path.exists(datasets_dir):\n",
    "        os.mkdir(datasets_dir)\n",
    "    data_file = os.path.join(datasets_dir, 'mnist.pkl.gz')\n",
    "    if not os.path.exists(data_file):\n",
    "        print('... downloading MNIST from the web')\n",
    "        try:\n",
    "            import urllib\n",
    "            urllib.urlretrieve('http://google.com')\n",
    "        except AttributeError:\n",
    "            import urllib.request as urllib\n",
    "        url = 'http://www.iro.umontreal.ca/~lisa/deep/data/mnist/mnist.pkl.gz'\n",
    "        urllib.urlretrieve(url, data_file)\n",
    "\n",
    "    print('... loading data')\n",
    "    \n",
    "    # Load the dataset\n",
    "    f = gzip.open(data_file, 'rb')\n",
    "    try:\n",
    "        train_set, valid_set, test_set = cPickle.load(f, encoding=\"latin1\")\n",
    "    except TypeError:\n",
    "        train_set, valid_set, test_set = cPickle.load(f)\n",
    "    f.close()\n",
    "\n",
    "    test_x, test_y = test_set\n",
    "    test_x = test_x.astype('float32')\n",
    "    test_x = test_x.astype('float32').reshape(test_x.shape[0], 1, 28, 28)\n",
    "    test_y = test_y.astype('int32')\n",
    "    valid_x, valid_y = valid_set\n",
    "    valid_x = valid_x.astype('float32')\n",
    "    valid_x = valid_x.astype('float32').reshape(valid_x.shape[0], 1, 28, 28)\n",
    "    valid_y = valid_y.astype('int32')\n",
    "    train_x, train_y = train_set\n",
    "    train_x = train_x.astype('float32').reshape(train_x.shape[0], 1, 28, 28)\n",
    "    train_y = train_y.astype('int32')\n",
    "    rval = [(train_x, train_y), (valid_x, valid_y), (test_x, test_y)]\n",
    "    print('... done loading data')\n",
    "    \n",
    "    return rval"
   ]
  },
  {
   "cell_type": "markdown",
   "metadata": {},
   "source": [
    "# Neural Network Layers\n",
    "We now define \"bare bone\" neural network layers.\n",
    "The parts marked with **TODO** are where you should finish the implementation!\n",
    "Conceptually we will implement the layers as follows:\n",
    "\n",
    "Each layer has a constructor that takes an input layer plus some additional arguments such as layer size and the activation function name. The layer then uses the provided input layer to compute the layer dimensions, weight shapes, etc. and setup all auxilliary variables.\n",
    "\n",
    "Each layer then has to provide three functions (as defined in the Layer class below): *output_shape()*, *fprop()* and *bprop()*. The output_shape function is used to figure out the shape for the next layer and the *fprop()/bprop()* functions are used to compute forward and backward passes through the network."
   ]
  },
  {
   "cell_type": "code",
   "execution_count": 3,
   "metadata": {
    "scrolled": true
   },
   "outputs": [],
   "source": [
    "# start by defining simple helpers\n",
    "def sigmoid(x):\n",
    "    return 1.0 / (1.0 + np.exp(-x))\n",
    "\n",
    "def sigmoid_d(x):\n",
    "    # TODO ################\n",
    "    # TODO: implement this!\n",
    "    # TODO ################\n",
    "    return sigmoid(x) * (1.0 - sigmoid(x))\n",
    "\n",
    "def tanh(x):\n",
    "    return np.tanh(x)\n",
    "\n",
    "def tanh_d(x):\n",
    "    # TODO ################\n",
    "    # TODO: implement this!\n",
    "    # TODO ################\n",
    "    return 1.0 - (tanh(x))**2\n",
    "\n",
    "def relu(x):\n",
    "    return np.maximum(0.0, x)\n",
    "\n",
    "def relu_d(x):\n",
    "    # TODO ################\n",
    "    # TODO: implement this!\n",
    "    # TODO ################\n",
    "    x[x >= 0.0] = 1.0\n",
    "    x[x < 0.0] = 0.0\n",
    "    return x\n",
    "\n",
    "def softmax(x, axis=1):\n",
    "    # to make the softmax a \"safe\" operation we will \n",
    "    # first subtract the maximum along the specified axis\n",
    "    # so that np.exp(x) does not blow up!\n",
    "    # Note that this does not change the output.  (Also called numeric stability)\n",
    "    x_max = np.max(x, axis=axis, keepdims=True)\n",
    "    x_safe = x - x_max\n",
    "    e_x = np.exp(x_safe)\n",
    "    return e_x / np.sum(e_x, axis=axis, keepdims=True)\n",
    "\n",
    "def one_hot(labels):\n",
    "    \"\"\"\n",
    "    This creates a one hot encoding from a flat vector:\n",
    "    i.e. given y = [0,2,1]\n",
    "    it creates y_one_hot = [[1,0,0], [0,0,1], [0,1,0]]\n",
    "    \"\"\"\n",
    "    \n",
    "    '''\n",
    "    classes = np.unique(labels)\n",
    "    n_classes = classes.size\n",
    "    one_hot_labels = np.zeros(labels.shape + (n_classes, ))    \n",
    "    for c in classes:\n",
    "        one_hot_labels[labels == c, c] = 1\n",
    "    \n",
    "    return one_hot_labels\n",
    "    '''\n",
    "    \n",
    "    # alternative way is to use np.eye function\n",
    "    classes = np.unique(labels)\n",
    "    n_classes = classes.size\n",
    "    \n",
    "    return np.eye(n_classes)[labels]\n",
    "\n",
    "def unhot(one_hot_labels):\n",
    "    \"\"\" Invert a one hot encoding, creating a flat vector \"\"\"\n",
    "    # Returns the indices of the maximum values along an axis.\n",
    "    return np.argmax(one_hot_labels, axis=-1)    \n",
    "\n",
    "# then define an activation function class\n",
    "class Activation(object):\n",
    "    \n",
    "    def __init__(self, tname):        # self: refers to the newly created object\n",
    "        if tname == 'sigmoid':\n",
    "            self.act = sigmoid\n",
    "            self.act_d = sigmoid_d\n",
    "        elif tname == 'tanh':\n",
    "            self.act = tanh\n",
    "            self.act_d = tanh_d\n",
    "        elif tname == 'relu':\n",
    "            self.act = relu\n",
    "            self.act_d = relu_d\n",
    "        else:\n",
    "            raise ValueError('Invalid activation function.')\n",
    "    \n",
    "    # self: refers to the instance whose method was called\n",
    "    def fprop(self, input):        \n",
    "        # we need to remember the last input\n",
    "        # so that we can calculate the derivative with respect\n",
    "        # to it later on\n",
    "        self.last_input = input\n",
    "        return self.act(input)\n",
    "    \n",
    "    # chain rule, matrix multiplication\n",
    "    def bprop(self, output_grad):\n",
    "        return output_grad * self.act_d(self.last_input)    \n",
    "\n",
    "\n",
    "# define a base class for layers\n",
    "class Layer(object):\n",
    "    \n",
    "    def fprop(self, input):\n",
    "        \"\"\" \n",
    "        Calculate layer output for given input (forward propagation). \n",
    "        \"\"\"\n",
    "        raise NotImplementedError('This is an interface class, please use a derived instance')\n",
    "\n",
    "    def bprop(self, output_grad):\n",
    "        \"\"\" \n",
    "        Calculate input gradient and gradient \n",
    "        with respect to weights and bias (backpropagation). \n",
    "        \"\"\"\n",
    "        raise NotImplementedError('This is an interface class, please use a derived instance')\n",
    "\n",
    "    def output_size(self):\n",
    "        \"\"\" \n",
    "        Calculate size of this layer's output.\n",
    "        input_shape[0] is the number of samples in the input.\n",
    "        input_shape[1:] is the shape of the feature.\n",
    "        \"\"\"\n",
    "        raise NotImplementedError('This is an interface class, please use a derived instance')\n",
    "\n",
    "\n",
    "# define a base class for loss outputs\n",
    "# an output layer can then simply be derived from both Layer and Loss \n",
    "class Loss(object):\n",
    "\n",
    "    def loss(self, output, output_net):\n",
    "        \"\"\" Calculate mean loss given real output and network output. \"\"\"\n",
    "        raise NotImplementedError('This is an interface class, please use a derived instance')\n",
    "\n",
    "    def input_grad(self, output, output_net):\n",
    "        \"\"\" Calculate input gradient given real output and network output. \"\"\"\n",
    "        raise NotImplementedError('This is an interface class, please use a derived instance')\n",
    "\n",
    "\n",
    "# define a base class for parameterized things        \n",
    "class Parameterized(object):\n",
    "    \n",
    "    def params(self):\n",
    "        \"\"\" Return parameters (by reference) \"\"\"\n",
    "        raise NotImplementedError('This is an interface class, please use a derived instance')\n",
    "    \n",
    "    def grad_params(self):\n",
    "        \"\"\" Return accumulated gradient with respect to params. \"\"\"\n",
    "        raise NotImplementedError('This is an interface class, please use a derived instance')\n",
    "\n",
    "\n",
    "# define a container for providing input to the network\n",
    "class InputLayer(Layer):\n",
    "    \n",
    "    def __init__(self, input_shape):\n",
    "        if not isinstance(input_shape, tuple):\n",
    "            raise ValueError(\"InputLayer requires input_shape as a tuple\")\n",
    "        self.input_shape = input_shape\n",
    "\n",
    "    def output_size(self):\n",
    "        return self.input_shape\n",
    "    \n",
    "    def fprop(self, input):\n",
    "        return input\n",
    "    \n",
    "    def bprop(self, output_grad):\n",
    "        return output_grad\n",
    "\n",
    "\n",
    "class FullyConnectedLayer(Layer, Parameterized):\n",
    "    \"\"\" \n",
    "    A standard fully connected hidden layer, as discussed in the lecture.\n",
    "    \"\"\"\n",
    "    \n",
    "    def __init__(self, input_layer, num_units, \n",
    "                 init_stddev, activation_fun=Activation('relu')):\n",
    "        self.num_units = num_units\n",
    "        self.activation_fun = activation_fun\n",
    "        \n",
    "        # the input shape will be of size (batch_size, num_units_prev) \n",
    "        # where num_units_prev is the number of units in the input (previous) layer\n",
    "        self.input_shape = input_layer.output_size()\n",
    "        \n",
    "        # TODO ################################\n",
    "        # TODO: implement weight initialization\n",
    "        # TODO ################################\n",
    "        # this is the weight matrix it should have shape: (num_units_prev, num_units)\n",
    "        #self.W = np.random.standard_normal((self.input_shape[1], num_units)) * init_stddev\n",
    "        self.W = init_stddev * np.random.normal(0.0, 1.0, [self.input_shape[1], num_units]) \n",
    "        \n",
    "        # and this is the bias vector of shape: (num_units) \n",
    "        #self.b = np.random.standard_normal((1, self.num_units))\n",
    "        self.b = np.zeros(num_units)\n",
    "        \n",
    "        # create dummy variables for parameter gradients\n",
    "        # no need to change these here!\n",
    "        self.dW = None\n",
    "        self.db = None\n",
    "    \n",
    "    def output_size(self):\n",
    "        return (self.input_shape[0], self.num_units)\n",
    "    \n",
    "    def fprop(self, input):\n",
    "        # TODO ################################################\n",
    "        # TODO: implement forward propagation\n",
    "        # NOTE: you should also handle the case were \n",
    "        #       activation_fun is None (meaning no activation)\n",
    "        #       then this is simply a linear layer\n",
    "        # TODO ################################################\n",
    "        # again, you want to cache the last_input for the bprop implementation below!\n",
    "        \n",
    "        # raise NotImplementedError(\"You should implement this!\")\n",
    "        # return np.zeros(self.output_size)\n",
    "        \n",
    "        self.last_input = input\n",
    "        \n",
    "        if self.activation_fun is None:\n",
    "            return input.dot(self.W) + self.b\n",
    "        else:\n",
    "            return self.activation_fun.fprop(input.dot(self.W) + self.b)\n",
    " \n",
    "    def bprop(self, output_grad):\n",
    "        \"\"\" Calculate input gradient (backpropagation). \"\"\"\n",
    "        # TODO ###############################\n",
    "        # TODO: implement backward propagation\n",
    "        # TODO ###############################\n",
    "        \n",
    "        # HINT: you may have to divide the weights by n (batch_size)\n",
    "        #       to make gradient checking work \n",
    "        #       (since you want to divide the loss by number of inputs)\n",
    "        \n",
    "        n = output_grad.shape[0]\n",
    "        \n",
    "        # accumulate gradient wrt. the parameters first\n",
    "        # we will need to store these to later update\n",
    "        # the network after a few forward backward passes\n",
    "        # the gradient wrt. W should be stored as self.dW\n",
    "        # the gradient wrt. b should be stored as self.db\n",
    "        if self.activation_fun is not None:\n",
    "            dhidden = self.activation_fun.bprop(output_grad)\n",
    "        else:\n",
    "            dhidden = output_grad\n",
    "            \n",
    "        self.dW = np.dot(self.last_input.T, dhidden)\n",
    "        self.db = np.sum(dhidden, axis=0)\n",
    "        \n",
    "        self.dW /= n\n",
    "        self.db /= n\n",
    "        \n",
    "        # the gradient wrt. the input should be calculated here\n",
    "        grad_input = np.zeros_like(self.last_input)        \n",
    "        grad_input = np.dot(dhidden, self.W.T)\n",
    "        \n",
    "        return grad_input\n",
    "        \n",
    "    def params(self):\n",
    "        return self.W, self.b\n",
    "\n",
    "    def grad_params(self):\n",
    "        return self.dW, self.db\n",
    "\n",
    "    \n",
    "# finally we specify the interface for output layers which are layers \n",
    "# that also have a loss function we will implement two output layers:\n",
    "# a Linear, and Softmax (Logistic Regression) layer\n",
    "\n",
    "# The difference between output layers and normal layers is that they \n",
    "# will be called to compute the gradient of the loss through input_grad(). \n",
    "# bprop will never be called on them!\n",
    "class LinearOutput(Layer, Loss):\n",
    "    \"\"\" \n",
    "    A simple linear output layer that uses a squared loss (e.g. should be used for regression)\n",
    "    \"\"\"\n",
    "    def __init__(self, input_layer):\n",
    "        self.input_size = input_layer.output_size()\n",
    "        \n",
    "    def output_size(self):\n",
    "        return (1, )\n",
    "        \n",
    "    def fprop(self, input):\n",
    "        return input\n",
    "\n",
    "    def bprop(self, output_grad):\n",
    "        raise NotImplementedError(\n",
    "            'LinearOutput should only be used as the last layer of a Network'\n",
    "            + ' bprop() should thus never be called on it!'\n",
    "        )\n",
    "    \n",
    "    def input_grad(self, Y, Y_pred):\n",
    "        # TODO ####################################\n",
    "        # TODO: implement gradient of squared loss\n",
    "        # TODO ####################################\n",
    "        # return np.zeros_like(Y_pred) #FIXME\n",
    "\n",
    "        return (Y_pred - Y)\n",
    "\n",
    "    def loss(self, Y, Y_pred):\n",
    "        loss = np.sum(0.5 * np.square(Y - Y_pred)) / Y.shape[0]\n",
    "        \n",
    "        return loss\n",
    "\n",
    "\n",
    "class SoftmaxOutput(Layer, Loss):\n",
    "    \"\"\" \n",
    "    A softmax output layer that calculates the negative log likelihood as loss\n",
    "    and should be used for classification.\n",
    "    \"\"\"\n",
    "    \n",
    "    def __init__(self, input_layer):\n",
    "        self.input_size = input_layer.output_size()\n",
    "        \n",
    "    def output_size(self):\n",
    "        return (1, )\n",
    "    \n",
    "    def fprop(self, input):\n",
    "        return softmax(input)\n",
    "    \n",
    "    def bprop(self, output_grad):\n",
    "        raise NotImplementedError(\n",
    "            'SoftmaxOutput should only be used as the last layer of a Network'\n",
    "            + ' bprop() should thus never be called on it!'\n",
    "        )\n",
    "    \n",
    "    def input_grad(self, Y, Y_pred):    \n",
    "        # TODO #######################################################\n",
    "        # TODO: implement gradient of the negative log likelihood loss\n",
    "        # TODO #######################################################\n",
    "        # HINT: since this would involve taking the log \n",
    "        #       of the softmax (which is np.exp(x)/np.sum(np.exp(x), axis=1))\n",
    "        #       this gradient computation can be simplified a lot! \n",
    "        # return np.zeros_like(Y_pred) #FIXME\n",
    "        \n",
    "        return Y_pred - Y\n",
    "\n",
    "    # one_hot encoding, minimize the cross-entropy loss\n",
    "    def loss(self, Y, Y_pred):    \n",
    "        \n",
    "        # Assume one-hot encoding of Y\n",
    "        out = Y_pred       \n",
    "        \n",
    "        # to make the loss numerically stable you may want to add an epsilon in the log;\n",
    "        eps = 1e-10\n",
    "        \n",
    "        # TODO ####################################\n",
    "        # calculate negative log likelihood\n",
    "        # TODO ####################################\n",
    "        # loss = np.zeros_like(out) #FIXME \n",
    "        \n",
    "        loss = -np.sum(Y * np.log(out + eps)) / Y.shape[0]\n",
    "        return loss "
   ]
  },
  {
   "cell_type": "markdown",
   "metadata": {},
   "source": [
    "# Neural Network class\n",
    "With all layers in place (and properly implemented by you) we can finally define a neural network.\n",
    "For our purposes a neural network is simply a collection of layers which we will cycle through and on which we will call *fprop* and *bprop* to compute partial derivatives with respect to the input and the parameters.\n",
    "\n",
    "Pay special attention to the *check_gradients()* function in which you should implement automatic differentiation. This function will become your best friend when checking the correctness of your implementation."
   ]
  },
  {
   "cell_type": "code",
   "execution_count": 12,
   "metadata": {
    "scrolled": true
   },
   "outputs": [],
   "source": [
    "class NeuralNetwork:\n",
    "    \"\"\" Our Neural Network container class.\"\"\"\n",
    "    def __init__(self, layers, reg):    # Add regularization term\n",
    "        self.layers = layers\n",
    "        self.reg = reg\n",
    "        \n",
    "    def _loss(self, X, Y):    \n",
    "        Y_pred = self.predict(X)\n",
    "        data_loss = self.layers[-1].loss(Y, Y_pred)\n",
    "        reg_loss = 0.0\n",
    "        for layer in self.layers:\n",
    "            if isinstance(layer, Parameterized):\n",
    "                reg_loss += 0.5 * self.reg * np.sum(np.square(layer.params()[0]))\n",
    "                \n",
    "        return data_loss + reg_loss\n",
    "\n",
    "    def predict(self, X):\n",
    "        \"\"\" Calculate an output Y for the given input X. \"\"\"\n",
    "        # TODO ##########################################\n",
    "        # TODO: implement forward pass through all layers\n",
    "        # TODO ##########################################\n",
    "        # Y_pred = 0.\n",
    "        for l, _ in enumerate(self.layers):\n",
    "            X = self.layers[l].fprop(X)\n",
    "        Y_pred = X\n",
    "        return Y_pred\n",
    "    \n",
    "    def backpropagate(self, Y, Y_pred, upto=0):    \n",
    "        \"\"\" \n",
    "        Backpropagation of partial derivatives through the complete network up to layer 'upto'\n",
    "        \"\"\"\n",
    "        next_grad = self.layers[-1].input_grad(Y, Y_pred)    # (64, 10)\n",
    "        \n",
    "        # TODO ##########################################\n",
    "        # TODO: implement backward pass through all layers\n",
    "        # TODO ##########################################\n",
    "        for i in range(len(self.layers)-2, upto-1, -1):\n",
    "            next_grad = self.layers[i].bprop(next_grad)    \n",
    "        return next_grad\n",
    "    \n",
    "    def classification_error(self, X, Y):    \n",
    "        \"\"\" \n",
    "        Calculate error on the given data assuming they are classes that should be predicted. \n",
    "        \"\"\"\n",
    "        Y_pred = unhot(self.predict(X))         # for example [9, 1, 1, 2, 3]\n",
    "        error = Y_pred != Y\n",
    "        return np.mean(error)\n",
    "    \n",
    "    def sgd_epoch(self, X, Y, learning_rate, batch_size):    # one_hot encoding\n",
    "        n_samples = X.shape[0]\n",
    "        n_batches = n_samples // batch_size\n",
    "        for b in range(n_batches):\n",
    "            # TODO #####################################\n",
    "            # Implement stochastic gradient descent here\n",
    "            # TODO #####################################\n",
    "            # start by extracting a batch from X and Y\n",
    "            # (you can assume the inputs are already shuffled)\n",
    "            sample_indices = np.random.choice(np.arange(n_samples), batch_size)\n",
    "            X_batch = X[sample_indices]\n",
    "            Y_batch = Y[sample_indices]\n",
    "\n",
    "            # TODO: then forward and backward propagation + updates\n",
    "            # HINT: layer.params() returns parameters *by reference*\n",
    "            #       so you can easily update in-place\n",
    "            Y_batch_pred = self.predict(X_batch)\n",
    "            next_grad = self.backpropagate(Y_batch, Y_batch_pred, 0)\n",
    "            \n",
    "            for layer in self.layers:\n",
    "                if isinstance(layer, Parameterized):\n",
    "                    for param, grad in zip(layer.params(), layer.grad_params()):\n",
    "                        param += -learning_rate * grad\n",
    "    \n",
    "    def gd_epoch(self, X, Y, learning_rate):        # one_hot encoding\n",
    "        # TODO ##################################################\n",
    "        # Implement batch gradient descent here\n",
    "        # A few hints:\n",
    "        #   There are two strategies you can follow:\n",
    "        #   Either shove the whole dataset throught the network\n",
    "        #   at once (which can be problematic for large datasets)\n",
    "        #   or run through it batch wise as in the sgd approach\n",
    "        #   and accumulate the gradients for all parameters as\n",
    "        #   you go through the data. Either way you should then\n",
    "        #   do one gradient step after you went through the\n",
    "        #   complete dataset!\n",
    "        # TODO ##################################################\n",
    "        Y_pred = self.predict(X)\n",
    "        next_grad = self.backpropagate(Y, Y_pred, 0)\n",
    "        \n",
    "        for layer in self.layers:\n",
    "            if isinstance(layer, Parameterized):\n",
    "                for param, grad in zip(layer.params(), layer.grad_params()):\n",
    "                    param += -learning_rate * grad\n",
    "    \n",
    "    def train(self, X_train, y_train, X_val, y_val, learning_rate=0.1, \n",
    "              max_epochs=100, batch_size=64, descent_type=\"sgd\", y_one_hot=True):\n",
    "        \"\"\" \n",
    "        Train network on the given data. \n",
    "        \"\"\"\n",
    "        n_samples = X_train.shape[0]\n",
    "        n_batches = n_samples // batch_size\n",
    "        \n",
    "        # store the (train, validation) loss and error\n",
    "        train_loss = np.zeros(max_epochs + 1)\n",
    "        train_error = np.zeros(max_epochs + 1)\n",
    "        \n",
    "        val_loss = np.zeros(max_epochs + 1)\n",
    "        val_error = np.zeros(max_epochs + 1)\n",
    "        \n",
    "        if y_one_hot:\n",
    "            Y_train = one_hot(y_train)\n",
    "            Y_val = one_hot(y_val)\n",
    "        else:\n",
    "            Y_train = y_train\n",
    "            Y_val = y_val\n",
    "        \n",
    "        print(\"-------------------starting training-------------------\")\n",
    "        \n",
    "        for e in range(max_epochs + 1):\n",
    "            if descent_type == \"sgd\":\n",
    "                self.sgd_epoch(X_train, Y_train, learning_rate, batch_size)\n",
    "            elif descent_type == \"gd\":\n",
    "                self.gd_epoch(X_train, Y_train, learning_rate)\n",
    "            else:\n",
    "                raise NotImplementedError(\"Unknown gradient descent type {}\".format(descent_type))\n",
    "\n",
    "            # Output error on the training data (y_train is not one_hot encoding)\n",
    "            train_loss[e] = self._loss(X_train, Y_train)    \n",
    "            train_error[e] = self.classification_error(X_train, y_train)    \n",
    "            print('epoch {:.4f}, loss {:.4f}, train error {:.4f}'.format(e, train_loss[e], train_error[e]))\n",
    "            \n",
    "            # TODO ##################################################\n",
    "            # compute error on validation data:\n",
    "            # simply make the function take validation data as input\n",
    "            # and then compute errors here and print them\n",
    "            # TODO ##################################################\n",
    "            val_loss[e] = self._loss(X_val, Y_val)\n",
    "            val_error[e] = self.classification_error(X_val, y_val)\n",
    "            print('epoch {:.4f}, loss {:.4f}, validation error {:.4f}'.format(e, val_loss[e], val_error[e]))\n",
    "        \n",
    "        return train_loss, train_error, val_loss, val_error\n",
    "    \n",
    "    def check_gradients(self, X, Y):\n",
    "        \"\"\" \n",
    "        Helper function to test the parameter gradients for correctness. \n",
    "        \"\"\"\n",
    "        for l, layer in enumerate(self.layers):\n",
    "            if isinstance(layer, Parameterized):            # FullyConnectedLayer\n",
    "                print('checking gradient for layer {}'.format(l))\n",
    "                for p, param in enumerate(layer.params()):\n",
    "                    # we iterate through all parameters\n",
    "                    param_shape = param.shape\n",
    "                    \n",
    "                    # define functions for conveniently swapping out parameters of this specific layer \n",
    "                    # and computing loss and gradient with these changed parameters\n",
    "                    def output_given_params(param_new):\n",
    "                        \"\"\" \n",
    "                        A function that will compute the output of the network given a set of parameters\n",
    "                        \"\"\"\n",
    "                        # copy provided parameters\n",
    "                        param[:] = np.reshape(param_new, param_shape)\n",
    "                        \n",
    "                        # return computed loss\n",
    "                        return self._loss(X, Y)\n",
    "\n",
    "                    def grad_given_params(param_new):\n",
    "                        \"\"\"\n",
    "                        A function that will compute the gradient of the network given a set of parameters\n",
    "                        \"\"\"\n",
    "                        # copy provided parameters\n",
    "                        param[:] = np.reshape(param_new, param_shape)\n",
    "                        \n",
    "                        # Forward propagation through the net\n",
    "                        Y_pred = self.predict(X)\n",
    "                        \n",
    "                        # Backpropagation of partial derivatives\n",
    "                        self.backpropagate(Y, Y_pred, upto=l)\n",
    "                        \n",
    "                        # return the computed gradient \n",
    "                        return np.ravel(self.layers[l].grad_params()[p])\n",
    "\n",
    "                    # let the initial parameters be the ones that\n",
    "                    # are currently placed in the network and flatten them\n",
    "                    # to a vector for convenient comparisons, printing etc.\n",
    "                    \n",
    "                    # the copy will not change even the original changes (W, b)\n",
    "                    param_init = np.ravel(np.copy(param))    \n",
    "                    \n",
    "                    # TODO ####################################\n",
    "                    # TODO compute the gradient with respect to\n",
    "                    #      the initial parameters in two ways:\n",
    "                    #      1) with grad_given_params()\n",
    "                    #      2) with finite differences \n",
    "                    #         using output_given_params()\n",
    "                    #         (as discussed in the lecture)\n",
    "                    #      if your implementation is correct \n",
    "                    #      both results should be epsilon close\n",
    "                    #      to each other!\n",
    "                    # TODO ####################################\n",
    "                    epsilon = 1e-4\n",
    "                    \n",
    "                    # making sure your gradient checking routine itself \n",
    "                    # has no errors can be a bit tricky. To debug it\n",
    "                    # you can \"cheat\" by using scipy which implements\n",
    "                    # gradient checking exactly the way you should!\n",
    "                    # To do that simply run the following here:\n",
    "                    \n",
    "                    \"\"\"\n",
    "                    # approach 1\n",
    "                    import scipy.optimize\n",
    "                    err = scipy.optimize.check_grad(output_given_params, grad_given_params, param_init)\n",
    "                    print('diff {:.2e}'.format(err))\n",
    "                    assert (err < epsilon)\n",
    "                    \"\"\"\n",
    "                    \n",
    "                    # approach 2\n",
    "                    loss_base = output_given_params(param_init)    # return the loss\n",
    "                    \n",
    "                    # TODO this should hold the gradient calculated through bprop\n",
    "                    gparam_bprop = grad_given_params(param_init)\n",
    "                    \n",
    "                    # TODO this should hold the gradient calculated through finite differences\n",
    "                    gparam_fd = np.zeros_like(param_init)\n",
    "                    for i in range(len(param_init)):\n",
    "                        param_init[i] += epsilon                                              \n",
    "                        loss_after     = output_given_params(param_init)                       \n",
    "                        gparam_fd[i]   = (loss_after - loss_base) / epsilon\n",
    "                        param_init[i] -= epsilon\n",
    "                    \n",
    "                    # calculate difference between them\n",
    "                    if not None in gparam_bprop and gparam_fd is not None:    # ???\n",
    "                        err = np.mean(np.abs(gparam_bprop - gparam_fd))\n",
    "                        print('diff {:.2e}'.format(err))\n",
    "                        assert (err < epsilon)\n",
    "                        \n",
    "                    # reset the parameters to their initial values\n",
    "                    param[:] = np.reshape(param_init, param_shape)"
   ]
  },
  {
   "cell_type": "markdown",
   "metadata": {},
   "source": [
    "# Gradient Checking\n",
    "After implementing everything it is always a good idea to setup some layers and perform gradient\n",
    "checking on random data. **Note** that this is only an example! It is not a useful network architecture ;). We also expect you to play around with this to test all your implemented components."
   ]
  },
  {
   "cell_type": "code",
   "execution_count": 13,
   "metadata": {
    "scrolled": true
   },
   "outputs": [],
   "source": [
    "input_shape = (5, 10)\n",
    "n_labels = 10\n",
    "layers = [InputLayer(input_shape)]\n",
    "\n",
    "layers.append(FullyConnectedLayer(\n",
    "                layers[-1],\n",
    "                num_units=128,\n",
    "                init_stddev=0.1,\n",
    "                activation_fun=Activation('relu')\n",
    "))\n",
    "layers.append(FullyConnectedLayer(\n",
    "                layers[-1],\n",
    "                num_units=64,\n",
    "                init_stddev=0.1,\n",
    "                activation_fun=Activation('tanh')\n",
    "))\n",
    "layers.append(FullyConnectedLayer(\n",
    "                layers[-1],\n",
    "                num_units=n_labels,\n",
    "                init_stddev=0.1,\n",
    "                activation_fun=Activation('relu')\n",
    "))\n",
    "layers.append(SoftmaxOutput(layers[-1]))\n",
    "#layers.append(LinearOutput(layers[-1]))\n",
    "\n",
    "nn = NeuralNetwork(layers, reg=0.0)        # gradient check without L2 regularization"
   ]
  },
  {
   "cell_type": "code",
   "execution_count": 14,
   "metadata": {
    "scrolled": true
   },
   "outputs": [],
   "source": [
    "# create random data\n",
    "X = np.random.normal(size=input_shape)\n",
    "# and random labels\n",
    "Y = np.zeros((input_shape[0], n_labels))\n",
    "for i in range(Y.shape[0]):\n",
    "    idx = np.random.randint(n_labels)\n",
    "    Y[i, idx] = 1."
   ]
  },
  {
   "cell_type": "code",
   "execution_count": 15,
   "metadata": {
    "scrolled": false
   },
   "outputs": [
    {
     "name": "stdout",
     "output_type": "stream",
     "text": [
      "checking gradient for layer 1\n",
      "diff 2.11e-06\n",
      "diff 4.17e-06\n",
      "checking gradient for layer 2\n"
     ]
    },
    {
     "name": "stderr",
     "output_type": "stream",
     "text": [
      "/usr/local/lib/python2.7/dist-packages/ipykernel_launcher.py:230: FutureWarning: comparison to `None` will result in an elementwise object comparison in the future.\n"
     ]
    },
    {
     "name": "stdout",
     "output_type": "stream",
     "text": [
      "diff 3.17e-08\n",
      "diff 5.52e-07\n",
      "checking gradient for layer 3\n",
      "diff 1.48e-07\n",
      "diff 3.02e-06\n"
     ]
    }
   ],
   "source": [
    "nn.check_gradients(X, Y)"
   ]
  },
  {
   "cell_type": "markdown",
   "metadata": {},
   "source": [
    "# Training on MNIST\n",
    "Finally we can let our network run on the MNIST dataset!"
   ]
  },
  {
   "cell_type": "markdown",
   "metadata": {},
   "source": [
    "First load the data and reshape it."
   ]
  },
  {
   "cell_type": "code",
   "execution_count": 16,
   "metadata": {
    "scrolled": false
   },
   "outputs": [
    {
     "name": "stdout",
     "output_type": "stream",
     "text": [
      "... loading data\n",
      "... done loading data\n"
     ]
    }
   ],
   "source": [
    "# load the data\n",
    "Dtrain, Dval, Dtest = mnist()\n",
    "X_train, y_train = Dtrain\n",
    "X_val, y_val = Dval\n",
    "X_test, y_test = Dtest\n",
    "\n",
    "# Downsample training data to make it a bit faster for testing this code\n",
    "n_train_samples = 50000\n",
    "train_idxs = np.random.permutation(X_train.shape[0])[:n_train_samples]\n",
    "X_train = X_train[train_idxs]\n",
    "y_train = y_train[train_idxs]"
   ]
  },
  {
   "cell_type": "markdown",
   "metadata": {},
   "source": [
    "*Dtrain* contains 50k images which are of size 28 x 28 pixels. Hence:"
   ]
  },
  {
   "cell_type": "code",
   "execution_count": 17,
   "metadata": {
    "scrolled": true
   },
   "outputs": [
    {
     "name": "stdout",
     "output_type": "stream",
     "text": [
      "X_train shape: (50000, 1, 28, 28)\n",
      "y_train shape: (50000,)\n"
     ]
    }
   ],
   "source": [
    "print(\"X_train shape: {}\".format(np.shape(X_train)))\n",
    "print(\"y_train shape: {}\".format(np.shape(y_train)))"
   ]
  },
  {
   "cell_type": "markdown",
   "metadata": {},
   "source": [
    "y_train will automatically be converted in the *train()* function to one_hot encoding.\n",
    "\n",
    "\n",
    "But we need to reshape X_train, as our Network expects flat vectors of size 28*28 as input!"
   ]
  },
  {
   "cell_type": "code",
   "execution_count": 18,
   "metadata": {
    "scrolled": true
   },
   "outputs": [
    {
     "name": "stdout",
     "output_type": "stream",
     "text": [
      "Reshaped X_train size: (50000, 784)\n",
      "Reshaped X_val size: (10000, 784)\n",
      "Reshaped X_test size: (10000, 784)\n"
     ]
    }
   ],
   "source": [
    "X_train = X_train.reshape(X_train.shape[0], -1)\n",
    "X_val = X_val.reshape(X_val.shape[0], -1)\n",
    "X_test = X_test.reshape(X_test.shape[0], -1)\n",
    "\n",
    "print(\"Reshaped X_train size: {}\".format(X_train.shape))\n",
    "print(\"Reshaped X_val size: {}\".format(X_val.shape))\n",
    "print(\"Reshaped X_test size: {}\".format(X_test.shape))"
   ]
  },
  {
   "cell_type": "markdown",
   "metadata": {},
   "source": [
    "Ah, much better ;-)! \n",
    "\n",
    "Now we can finally really start training a Network!\n",
    "\n",
    "\n",
    "I pre-defined a small Network for you below. Again this is not really a good default and will not produce state of the art results. Please play around with this a bit. See how different activation functions and training procedures (gd / sgd) affect the result."
   ]
  },
  {
   "cell_type": "code",
   "execution_count": 19,
   "metadata": {
    "scrolled": false
   },
   "outputs": [
    {
     "name": "stdout",
     "output_type": "stream",
     "text": [
      "-------------------starting training-------------------\n",
      "epoch 0.0000, loss 0.4503, train error 0.1298\n",
      "epoch 0.0000, loss 0.4140, validation error 0.1180\n",
      "epoch 1.0000, loss 0.2585, train error 0.0737\n",
      "epoch 1.0000, loss 0.2437, validation error 0.0689\n",
      "epoch 2.0000, loss 0.1862, train error 0.0529\n",
      "epoch 2.0000, loss 0.1828, validation error 0.0513\n",
      "epoch 3.0000, loss 0.1368, train error 0.0399\n",
      "epoch 3.0000, loss 0.1434, validation error 0.0388\n",
      "epoch 4.0000, loss 0.1004, train error 0.0288\n",
      "epoch 4.0000, loss 0.1190, validation error 0.0349\n",
      "epoch 5.0000, loss 0.0839, train error 0.0242\n",
      "epoch 5.0000, loss 0.1063, validation error 0.0322\n",
      "epoch 6.0000, loss 0.0762, train error 0.0221\n",
      "epoch 6.0000, loss 0.1085, validation error 0.0322\n",
      "epoch 7.0000, loss 0.0575, train error 0.0167\n",
      "epoch 7.0000, loss 0.0935, validation error 0.0268\n",
      "epoch 8.0000, loss 0.0488, train error 0.0140\n",
      "epoch 8.0000, loss 0.0893, validation error 0.0246\n",
      "epoch 9.0000, loss 0.0432, train error 0.0119\n",
      "epoch 9.0000, loss 0.0931, validation error 0.0267\n",
      "epoch 10.0000, loss 0.0454, train error 0.0130\n",
      "epoch 10.0000, loss 0.1012, validation error 0.0274\n",
      "epoch 11.0000, loss 0.0330, train error 0.0088\n",
      "epoch 11.0000, loss 0.0904, validation error 0.0246\n",
      "epoch 12.0000, loss 0.0347, train error 0.0097\n",
      "epoch 12.0000, loss 0.1052, validation error 0.0281\n",
      "epoch 13.0000, loss 0.0293, train error 0.0078\n",
      "epoch 13.0000, loss 0.0899, validation error 0.0242\n",
      "epoch 14.0000, loss 0.0222, train error 0.0055\n",
      "epoch 14.0000, loss 0.0914, validation error 0.0219\n",
      "epoch 15.0000, loss 0.0195, train error 0.0044\n",
      "epoch 15.0000, loss 0.0879, validation error 0.0216\n",
      "epoch 16.0000, loss 0.0150, train error 0.0027\n",
      "epoch 16.0000, loss 0.0864, validation error 0.0206\n",
      "epoch 17.0000, loss 0.0164, train error 0.0037\n",
      "epoch 17.0000, loss 0.0875, validation error 0.0216\n",
      "epoch 18.0000, loss 0.0133, train error 0.0024\n",
      "epoch 18.0000, loss 0.0904, validation error 0.0212\n",
      "epoch 19.0000, loss 0.0129, train error 0.0027\n",
      "epoch 19.0000, loss 0.0946, validation error 0.0226\n",
      "epoch 20.0000, loss 0.0100, train error 0.0015\n",
      "epoch 20.0000, loss 0.0902, validation error 0.0211\n",
      "Duration: 458.4s\n"
     ]
    }
   ],
   "source": [
    "import time\n",
    "\n",
    "# Setup a small MLP / Neural Network\n",
    "# we can set the first shape to None here to indicate that\n",
    "# we will input a variable number inputs to the network\n",
    "input_shape = (None, 28*28)\n",
    "layers = [InputLayer(input_shape)]\n",
    "layers.append(FullyConnectedLayer(\n",
    "                layers[-1],\n",
    "                num_units=128,\n",
    "                init_stddev=0.01,\n",
    "                activation_fun=Activation('relu')\n",
    "))\n",
    "layers.append(FullyConnectedLayer(\n",
    "                layers[-1],\n",
    "                num_units=64,\n",
    "                init_stddev=0.01,\n",
    "                activation_fun=Activation('relu')\n",
    "))\n",
    "layers.append(FullyConnectedLayer(\n",
    "                layers[-1],\n",
    "                num_units=10,\n",
    "                init_stddev=0.01,\n",
    "                # last layer has no nonlinearity \n",
    "                # (softmax will be applied in the output layer)\n",
    "                activation_fun=None\n",
    "))\n",
    "layers.append(SoftmaxOutput(layers[-1]))\n",
    "#layers.append(LinearOutput(layers[-1]))\n",
    "\n",
    "nn = NeuralNetwork(layers, reg=1e-5)\n",
    "# Train neural network\n",
    "t0 = time.time()\n",
    "train_loss, train_error, val_loss, val_error = nn.train(X_train, y_train, X_val, y_val, \n",
    "                                                        learning_rate=0.1, max_epochs=20, \n",
    "                                                        batch_size=64, descent_type=\"sgd\", y_one_hot=True)\n",
    "t1 = time.time()\n",
    "print('Duration: {:.1f}s'.format(t1-t0))"
   ]
  },
  {
   "cell_type": "markdown",
   "metadata": {
    "collapsed": true
   },
   "source": [
    "# Figure out a reasonable Network that achieves good performance\n",
    "As the last part of this task, setup a network that works well and gets reasonable accuracy, say ~ 1-3 percent error on the **validation set**. \n",
    "Train this network on the complete data and compute the **test error**. \n",
    "\n",
    "Once you have done this, visualize a few digits from the test set that the network gets right as well as a few that the network gets wrong!"
   ]
  },
  {
   "cell_type": "code",
   "execution_count": 20,
   "metadata": {
    "scrolled": true
   },
   "outputs": [
    {
     "data": {
      "text/plain": [
       "0.021899999999999999"
      ]
     },
     "execution_count": 20,
     "metadata": {},
     "output_type": "execute_result"
    }
   ],
   "source": [
    "# Compute the test error\n",
    "nn.classification_error(X_test, y_test)"
   ]
  },
  {
   "cell_type": "code",
   "execution_count": 30,
   "metadata": {
    "scrolled": false
   },
   "outputs": [
    {
     "data": {
      "image/png": "[encoded data removed]",
      "text/plain": [
       "<matplotlib.figure.Figure at 0x7f631dae1d10>"
      ]
     },
     "metadata": {},
     "output_type": "display_data"
    }
   ],
   "source": [
    "# plotting the error rate\n",
    "plt.plot(np.arange(21), train_error, color='blue', label='training error')\n",
    "plt.plot(np.arange(21), val_error, color='red', label='validation error')\n",
    "plt.ylim([0.0, 0.2])\n",
    "plt.xlabel(\"number of epochs\")\n",
    "plt.ylabel(\"error\")\n",
    "plt.legend(['training error', 'validation error'], loc='upper right')\n",
    "plt.title(\"error rate\")\n",
    "plt.show()"
   ]
  },
  {
   "cell_type": "code",
   "execution_count": 31,
   "metadata": {
    "scrolled": true
   },
   "outputs": [
    {
     "data": {
      "image/png": "[encoded data removed]",
      "text/plain": [
       "<matplotlib.figure.Figure at 0x7f631db53110>"
      ]
     },
     "metadata": {},
     "output_type": "display_data"
    }
   ],
   "source": [
    "# plotting the loss function\n",
    "plt.plot(np.arange(21), train_loss, color='blue', label='training loss')\n",
    "plt.plot(np.arange(21), val_loss, color='red', label='validation loss')\n",
    "plt.ylim([0.0, 1.0])\n",
    "plt.xlabel(\"number of epochs\")\n",
    "plt.ylabel(\"loss\")\n",
    "plt.legend(['training loss', 'validation loss'], loc='upper right')\n",
    "plt.title(\"loss function\")\n",
    "plt.show()"
   ]
  },
  {
   "cell_type": "code",
   "execution_count": 32,
   "metadata": {
    "scrolled": false
   },
   "outputs": [
    {
     "name": "stdout",
     "output_type": "stream",
     "text": [
      "y_200:  [7 2 1 0 4 1 4 9 5 9 0 6 9 0 1 5 9 7 3 4 9 6 6 5 4 0 7 4 0 1 3 1 3 4 7 2 7\n",
      " 1 2 1 1 7 4 2 3 5 1 2 4 4 6 3 5 5 6 0 4 1 9 5 7 8 9 3 7 4 6 4 3 0 7 0 2 9\n",
      " 1 7 3 2 9 7 7 6 2 7 8 4 7 3 6 1 3 6 9 3 1 4 1 7 6 9 6 0 5 4 9 9 2 1 9 4 8\n",
      " 7 3 9 7 4 4 4 9 2 5 4 7 6 7 9 0 5 8 5 6 6 5 7 8 1 0 1 6 4 6 7 3 1 7 1 8 2\n",
      " 0 2 9 9 5 5 1 5 6 0 3 4 4 6 5 4 6 5 4 5 1 4 4 7 2 3 2 7 1 8 1 8 1 8 5 0 8\n",
      " 9 2 5 0 1 1 1 0 9 0 3 1 6 4 2]\n",
      "P_200:  [7 2 1 0 4 1 4 9 5 9 0 6 9 0 1 5 9 7 3 4 9 6 6 5 4 0 7 4 0 1 3 1 3 4 7 2 7\n",
      " 1 2 1 1 7 4 2 3 5 1 2 4 4 6 3 5 5 6 0 4 1 9 5 7 8 9 3 7 4 6 4 3 0 7 0 2 9\n",
      " 1 7 3 2 9 7 7 6 2 7 8 4 7 3 6 1 3 6 9 3 1 4 1 7 6 9 6 0 5 4 5 9 2 1 9 4 8\n",
      " 7 3 9 7 4 4 4 9 2 5 4 7 6 7 9 0 5 8 5 6 6 5 7 8 1 0 1 6 4 6 7 3 1 7 1 8 2\n",
      " 0 3 9 9 5 5 1 5 6 0 3 4 4 6 5 4 6 5 4 5 1 4 4 7 2 3 2 7 1 8 1 8 1 8 5 0 8\n",
      " 9 2 5 0 1 1 1 0 9 0 3 1 6 4 2]\n"
     ]
    }
   ],
   "source": [
    "# Visualize a few digits from the test set (correctly classified, wrongly classified)\n",
    "X_200 = X_test[:200]\n",
    "y_200 = y_test[:200]\n",
    "P_200 = unhot(nn.predict(X_200))\n",
    "print \"y_200: \", y_200\n",
    "print \"P_200: \", P_200"
   ]
  },
  {
   "cell_type": "code",
   "execution_count": 33,
   "metadata": {
    "scrolled": true
   },
   "outputs": [
    {
     "data": {
      "text/plain": [
       "0.01"
      ]
     },
     "execution_count": 33,
     "metadata": {},
     "output_type": "execute_result"
    }
   ],
   "source": [
    "nn.classification_error(X_200, y_200)"
   ]
  },
  {
   "cell_type": "code",
   "execution_count": 34,
   "metadata": {
    "scrolled": true
   },
   "outputs": [
    {
     "data": {
      "text/plain": [
       "(2, 3, 9, 9)"
      ]
     },
     "execution_count": 34,
     "metadata": {},
     "output_type": "execute_result"
    }
   ],
   "source": [
    "y_200[149], P_200[149], y_200[151], P_200[151]"
   ]
  },
  {
   "cell_type": "markdown",
   "metadata": {},
   "source": [
    "Visualizing some selected digits from **test set** which are **correctly** classified, as well as some digits that are **wrongly** classified."
   ]
  },
  {
   "cell_type": "code",
   "execution_count": 37,
   "metadata": {
    "scrolled": true
   },
   "outputs": [
    {
     "data": {
      "text/plain": [
       "<matplotlib.image.AxesImage at 0x7f631d911110>"
      ]
     },
     "execution_count": 37,
     "metadata": {},
     "output_type": "execute_result"
    },
    {
     "data": {
      "image/png": "[encoded data removed]",
      "text/plain": [
       "<matplotlib.figure.Figure at 0x7f631dabea10>"
      ]
     },
     "metadata": {},
     "output_type": "display_data"
    }
   ],
   "source": [
    "# correctly classified 1\n",
    "plt.imshow(np.reshape(X_test[0], (28, 28)))"
   ]
  },
  {
   "cell_type": "code",
   "execution_count": 38,
   "metadata": {},
   "outputs": [
    {
     "data": {
      "text/plain": [
       "<matplotlib.image.AxesImage at 0x7f631d8bb690>"
      ]
     },
     "execution_count": 38,
     "metadata": {},
     "output_type": "execute_result"
    },
    {
     "data": {
      "image/png": "[encoded data removed]",
      "text/plain": [
       "<matplotlib.figure.Figure at 0x7f631d944410>"
      ]
     },
     "metadata": {},
     "output_type": "display_data"
    }
   ],
   "source": [
    "# correctly classified 2\n",
    "plt.imshow(np.reshape(X_test[199], (28, 28)))"
   ]
  },
  {
   "cell_type": "code",
   "execution_count": 40,
   "metadata": {
    "scrolled": true
   },
   "outputs": [
    {
     "data": {
      "text/plain": [
       "<matplotlib.image.AxesImage at 0x7f631d72e050>"
      ]
     },
     "execution_count": 40,
     "metadata": {},
     "output_type": "execute_result"
    },
    {
     "data": {
      "image/png": "[encoded data removed]",
      "text/plain": [
       "<matplotlib.figure.Figure at 0x7f631d792110>"
      ]
     },
     "metadata": {},
     "output_type": "display_data"
    }
   ],
   "source": [
    "# wrongly classified 1\n",
    "plt.imshow(np.reshape(X_test[149], (28, 28)))"
   ]
  },
  {
   "cell_type": "code",
   "execution_count": 41,
   "metadata": {},
   "outputs": [
    {
     "data": {
      "text/plain": [
       "<matplotlib.image.AxesImage at 0x7f631d65d510>"
      ]
     },
     "execution_count": 41,
     "metadata": {},
     "output_type": "execute_result"
    },
    {
     "data": {
      "image/png": "[encoded data removed]",
      "text/plain": [
       "<matplotlib.figure.Figure at 0x7f631d6e91d0>"
      ]
     },
     "metadata": {},
     "output_type": "display_data"
    }
   ],
   "source": [
    "# wrongly classified 1\n",
    "plt.imshow(np.reshape(X_test[151], (28, 28)))"
   ]
  },
  {
   "cell_type": "code",
   "execution_count": null,
   "metadata": {},
   "outputs": [],
   "source": []
  }
 ],
 "metadata": {
  "anaconda-cloud": {},
  "kernelspec": {
   "display_name": "Python 2",
   "language": "python",
   "name": "python2"
  },
  "language_info": {
   "codemirror_mode": {
    "name": "ipython",
    "version": 2
   },
   "file_extension": ".py",
   "mimetype": "text/x-python",
   "name": "python",
   "nbconvert_exporter": "python",
   "pygments_lexer": "ipython2",
   "version": "2.7.12"
  }
 },
 "nbformat": 4,
 "nbformat_minor": 1
}
