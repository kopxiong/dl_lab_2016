{
 "cells": [
  {
   "cell_type": "code",
   "execution_count": 134,
   "metadata": {
    "collapsed": false
   },
   "outputs": [
    {
     "name": "stdout",
     "output_type": "stream",
     "text": [
      "Using matplotlib backend: Qt4Agg\n"
     ]
    }
   ],
   "source": [
    "%matplotlib\n",
    "import matplotlib.pyplot as plt\n",
    "\n",
    "import numpy as np\n",
    "import cPickle        \n",
    "import os\n",
    "import gzip        \n",
    "import math"
   ]
  },
  {
   "cell_type": "markdown",
   "metadata": {},
   "source": [
    "# First exercise: Classifying MNIST with MLPs\n",
    "In this exercise you will implement a Neural Network (or MLP) and classify the MNIST digits with it.\n",
    "MNIST is a \"well hung\" dataset that has been used a lot over the years to benchmark different classification algorithms. \n",
    "To learn more about it have a look here: http://yann.lecun.com/exdb/mnist/ ."
   ]
  },
  {
   "cell_type": "markdown",
   "metadata": {},
   "source": [
    "# Data Loading\n",
    "We first define a function for downloading and loading MNIST.\n",
    "**WARNING**: Executing it will obviously use up some space on your machine ;). "
   ]
  },
  {
   "cell_type": "code",
   "execution_count": 78,
   "metadata": {
    "collapsed": true
   },
   "outputs": [],
   "source": [
    "def mnist(datasets_dir = './data'):\n",
    "    if not os.path.exists(datasets_dir):\n",
    "        os.mkdir(datasets_dir)\n",
    "    data_file = os.path.join(datasets_dir, 'mnist.pkl.gz')\n",
    "    if not os.path.exists(data_file):\n",
    "        print('... downloading MNIST from the web')\n",
    "        try:\n",
    "            import urllib\n",
    "            urllib.urlretrieve('http://google.com')\n",
    "        except AttributeError:\n",
    "            import urllib.request as urllib\n",
    "        url = 'http://www.iro.umontreal.ca/~lisa/deep/data/mnist/mnist.pkl.gz'\n",
    "        urllib.urlretrieve(url, data_file)\n",
    "\n",
    "    print('... loading data')\n",
    "    # Load the dataset\n",
    "    f = gzip.open(data_file, 'rb')\n",
    "    try:\n",
    "        train_set, valid_set, test_set = cPickle.load(f, encoding=\"latin1\")\n",
    "    except TypeError:\n",
    "        train_set, valid_set, test_set = cPickle.load(f)\n",
    "    f.close()\n",
    "\n",
    "    test_x, test_y = test_set\n",
    "    test_x = test_x.astype('float32')\n",
    "    test_x = test_x.astype('float32').reshape(test_x.shape[0], 1, 28, 28)\n",
    "    test_y = test_y.astype('int32')\n",
    "    valid_x, valid_y = valid_set\n",
    "    valid_x = valid_x.astype('float32')\n",
    "    valid_x = valid_x.astype('float32').reshape(valid_x.shape[0], 1, 28, 28)\n",
    "    valid_y = valid_y.astype('int32')\n",
    "    train_x, train_y = train_set\n",
    "    train_x = train_x.astype('float32').reshape(train_x.shape[0], 1, 28, 28)\n",
    "    train_y = train_y.astype('int32')\n",
    "    rval = [(train_x, train_y), (valid_x, valid_y), (test_x, test_y)]\n",
    "    print('... done loading data')\n",
    "    return rval"
   ]
  },
  {
   "cell_type": "markdown",
   "metadata": {},
   "source": [
    "# Neural Network Layers\n",
    "We now define \"bare bone\" neural network layers.\n",
    "The parts marked with **TODO** are where you should finish the implementation!\n",
    "Conceptually we will implement the layers as follows:\n",
    "\n",
    "Each layer has a constructor that takes an input layer plus some additional arguments such as layer size and the activation function name. The layer then uses the provided input layer to compute the layer dimensions, weight shapes, etc. and setup all auxilliary variables.\n",
    "\n",
    "Each layer then has to provide three functions (as defined in the Layer class below): *output_shape()*, *fprop()* and *bprop()*. The output_shape function is used to figure out the shape for the next layer and the *fprop()/bprop()* functions are used to compute forward and backward passes through the network."
   ]
  },
  {
   "cell_type": "code",
   "execution_count": 79,
   "metadata": {
    "collapsed": false
   },
   "outputs": [],
   "source": [
    "# start by defining simple helpers\n",
    "def sigmoid(x):\n",
    "    return 1.0 / (1.0 + np.exp(-x))\n",
    "\n",
    "def sigmoid_d(x):\n",
    "    # TODO ################\n",
    "    # TODO: implement this!\n",
    "    # TODO ################\n",
    "    return sigmoid(x) * (1.0 - sigmoid(x))\n",
    "\n",
    "def tanh(x):\n",
    "    return np.tanh(x)\n",
    "\n",
    "def tanh_d(x):\n",
    "    # TODO ################\n",
    "    # TODO: implement this!\n",
    "    # TODO ################\n",
    "    return 1.0 - (tanh(x))**2\n",
    "\n",
    "def relu(x):\n",
    "    return np.maximum(0.0, x)\n",
    "\n",
    "def relu_d(x):\n",
    "    # TODO ################\n",
    "    # TODO: implement this!\n",
    "    # TODO ################\n",
    "    x[x >= 0.0] = 1.0\n",
    "    x[x < 0.0] = 0.0\n",
    "    return x\n",
    "\n",
    "def softmax(x, axis=1):\n",
    "    # to make the softmax a \"safe\" operation we will \n",
    "    # first subtract the maximum along the specified axis\n",
    "    # so that np.exp(x) does not blow up!\n",
    "    # Note that this does not change the output.  (Also called numeric stability)\n",
    "    x_max = np.max(x, axis=axis, keepdims=True)\n",
    "    x_safe = x - x_max\n",
    "    e_x = np.exp(x_safe)\n",
    "    return e_x / np.sum(e_x, axis=axis, keepdims=True)\n",
    "\n",
    "def one_hot(labels):\n",
    "    \"\"\"this creates a one hot encoding from a flat vector:\n",
    "    i.e. given y = [0,2,1]\n",
    "     it creates y_one_hot = [[1,0,0], [0,0,1], [0,1,0]]\n",
    "    \"\"\"\n",
    "    classes = np.unique(labels)\n",
    "    # n_classes = np.max(labels) + 1\n",
    "    n_classes = 10\n",
    "    one_hot_labels = np.zeros(labels.shape + (n_classes, ))    \n",
    "    for c in classes:\n",
    "        one_hot_labels[labels == c, c] = 1\n",
    "    return one_hot_labels\n",
    "\n",
    "def unhot(one_hot_labels):\n",
    "    \"\"\" Invert a one hot encoding, creating a flat vector \"\"\"\n",
    "    return np.argmax(one_hot_labels, axis=-1)    # Returns the indices of the maximum values along an axis.\n",
    "\n",
    "# then define an activation function class\n",
    "class Activation(object):\n",
    "    \n",
    "    def __init__(self, tname):        # self: refers to the newly created object\n",
    "        if tname == 'sigmoid':\n",
    "            self.act = sigmoid\n",
    "            self.act_d = sigmoid_d\n",
    "        elif tname == 'tanh':\n",
    "            self.act = tanh\n",
    "            self.act_d = tanh_d\n",
    "        elif tname == 'relu':\n",
    "            self.act = relu\n",
    "            self.act_d = relu_d\n",
    "        else:\n",
    "            raise ValueError('Invalid activation function.')\n",
    "            \n",
    "    def fprop(self, input):        # self: refers to the instance whose method was called\n",
    "        # we need to remember the last input\n",
    "        # so that we can calculate the derivative with respect\n",
    "        # to it later on\n",
    "        self.last_input = input\n",
    "        return self.act(input)\n",
    "    \n",
    "    def bprop(self, output_grad):\n",
    "        return output_grad * self.act_d(self.last_input)    # chain rule, matrix multiplication\n",
    "\n",
    "# define a base class for layers\n",
    "class Layer(object):\n",
    "    \n",
    "    def fprop(self, input):\n",
    "        \"\"\" Calculate layer output for given input \n",
    "            (forward propagation). \n",
    "        \"\"\"\n",
    "        raise NotImplementedError('This is an interface class, please use a derived instance')\n",
    "\n",
    "    def bprop(self, output_grad):\n",
    "        \"\"\" Calculate input gradient and gradient \n",
    "            with respect to weights and bias (backpropagation). \n",
    "        \"\"\"\n",
    "        raise NotImplementedError('This is an interface class, please use a derived instance')\n",
    "\n",
    "    def output_size(self):\n",
    "        \"\"\" Calculate size of this layer's output.\n",
    "        input_shape[0] is the number of samples in the input.\n",
    "        input_shape[1:] is the shape of the feature.\n",
    "        \"\"\"\n",
    "        raise NotImplementedError('This is an interface class, please use a derived instance')\n",
    "\n",
    "# define a base class for loss outputs\n",
    "# an output layer can then simply be derived\n",
    "# from both Layer and Loss \n",
    "class Loss(object):\n",
    "\n",
    "    def loss(self, output, output_net):\n",
    "        \"\"\" Calculate mean loss given real output and network output. \"\"\"\n",
    "        raise NotImplementedError('This is an interface class, please use a derived instance')\n",
    "\n",
    "    def input_grad(self, output, output_net):\n",
    "        \"\"\" Calculate input gradient given real output and network output. \"\"\"\n",
    "        raise NotImplementedError('This is an interface class, please use a derived instance')\n",
    "\n",
    "# define a base class for parameterized things        \n",
    "class Parameterized(object):\n",
    "    \n",
    "    def params(self):\n",
    "        \"\"\" Return parameters (by reference) \"\"\"\n",
    "        raise NotImplementedError('This is an interface class, please use a derived instance')\n",
    "    \n",
    "    def grad_params(self):\n",
    "        \"\"\" Return accumulated gradient with respect to params. \"\"\"\n",
    "        raise NotImplementedError('This is an interface class, please use a derived instance')\n",
    "\n",
    "# define a container for providing input to the network\n",
    "class InputLayer(Layer):\n",
    "    \n",
    "    def __init__(self, input_shape):\n",
    "        if not isinstance(input_shape, tuple):\n",
    "            raise ValueError(\"InputLayer requires input_shape as a tuple\")\n",
    "        self.input_shape = input_shape\n",
    "\n",
    "    def output_size(self):\n",
    "        return self.input_shape\n",
    "    \n",
    "    def fprop(self, input):\n",
    "        return input\n",
    "    \n",
    "    def bprop(self, output_grad):\n",
    "        return output_grad\n",
    "        \n",
    "class FullyConnectedLayer(Layer, Parameterized):\n",
    "    \"\"\" A standard fully connected hidden layer, as discussed in the lecture.\n",
    "    \"\"\"\n",
    "    \n",
    "    def __init__(self, input_layer, num_units, \n",
    "                 init_stddev, activation_fun=Activation('relu')):\n",
    "        self.num_units = num_units\n",
    "        self.activation_fun = activation_fun\n",
    "        \n",
    "        # the input shape will be of size (batch_size, num_units_prev) \n",
    "        # where num_units_prev is the number of units in the input \n",
    "        # (previous) layer\n",
    "        self.input_shape = input_layer.output_size()\n",
    "        \n",
    "        # TODO ################################\n",
    "        # TODO: implement weight initialization\n",
    "        # TODO ################################\n",
    "        # this is the weight matrix it should have shape: (num_units_prev, num_units)\n",
    "        self.W = init_stddev * np.random.normal(0.0, init_stddev, [self.input_shape[1], num_units]) \n",
    "        \n",
    "        # and this is the bias vector of shape: (num_units) \n",
    "        self.b = np.zeros(num_units)\n",
    "        \n",
    "        # create dummy variables for parameter gradients\n",
    "        # no need to change these here!\n",
    "        self.dW = None\n",
    "        self.db = None\n",
    "    \n",
    "    def output_size(self):\n",
    "        return (self.input_shape[0], self.num_units)\n",
    "    \n",
    "    def fprop(self, input):\n",
    "        # TODO ################################################\n",
    "        # TODO: implement forward propagation\n",
    "        # NOTE: you should also handle the case were \n",
    "        #       activation_fun is None (meaning no activation)\n",
    "        #       then this is simply a linear layer\n",
    "        # TODO ################################################\n",
    "        # you again want to cache the last_input for the bprop\n",
    "        # implementation below!\n",
    "        self.last_input = input\n",
    "        \n",
    "        if self.activation_fun == None:\n",
    "            return input.dot(self.W) + self.b\n",
    "        else:\n",
    "            return self.activation_fun.fprop(input.dot(self.W) + self.b)\n",
    "        # raise NotImplementedError(\"You should implement this!\")\n",
    "        # return np.zeros(self.output_size)\n",
    "        \n",
    "    def bprop(self, output_grad):\n",
    "        \"\"\" Calculate input gradient (backpropagation). \"\"\"\n",
    "        # TODO ###############################\n",
    "        # TODO: implement backward propagation\n",
    "        # TODO ###############################\n",
    "        \n",
    "        # HINT: you may have to divide the weights by n\n",
    "        #       to make gradient checking work \n",
    "        #       (since you want to divide the loss by number of inputs)\n",
    "        n = output_grad.shape[0]\n",
    "        \n",
    "        # accumulate gradient wrt. the parameters first\n",
    "        # we will need to store these to later update\n",
    "        # the network after a few forward backward passes\n",
    "        # the gradient wrt. W should be stored as self.dW\n",
    "        # the gradient wrt. b should be stored as self.db\n",
    "        \n",
    "        # raise NotImplementedError(\"you should implement this\")\n",
    "        # self.dW = None #FIXME\n",
    "        # self.db = None #FIXME\n",
    "        dhidden = self.activation_fun.bprop(output_grad)\n",
    "        self.dW = np.dot(self.last_input.T, dhidden)\n",
    "        self.db = np.sum(dhidden, axis=0)\n",
    "        \n",
    "        self.dW /= n\n",
    "        self.db /= n\n",
    "        \n",
    "        # the gradient wrt. the input should be calculated here\n",
    "        grad_input = np.zeros_like(self.last_input)        \n",
    "        grad_input = np.dot(dhidden, self.W.T)\n",
    "        \n",
    "        return grad_input\n",
    "        \n",
    "    def params(self):\n",
    "        return self.W, self.b\n",
    "\n",
    "    def grad_params(self):\n",
    "        return self.dW, self.db\n",
    "\n",
    "# finally we specify the interface for output layers \n",
    "# which are layers that also have a loss function\n",
    "# we will implement two output layers:\n",
    "#  a Linear, and Softmax (Logistic Regression) layer\n",
    "# The difference between output layers and normal \n",
    "# layers is that they will be called to compute the gradient\n",
    "# of the loss through input_grad(). bprop will never \n",
    "# be called on them!\n",
    "class LinearOutput(Layer, Loss):\n",
    "    \"\"\" A simple linear output layer that  \n",
    "        uses a squared loss (e.g. should be used for regression)\n",
    "    \"\"\"\n",
    "    def __init__(self, input_layer):\n",
    "        self.input_size = input_layer.output_size()\n",
    "        \n",
    "    def output_size(self):\n",
    "        return (1, )\n",
    "        \n",
    "    def fprop(self, input):\n",
    "        return input\n",
    "\n",
    "    def bprop(self, output_grad):\n",
    "        raise NotImplementedError(\n",
    "            'LinearOutput should only be used as the last layer of a Network'\n",
    "            + ' bprop() should thus never be called on it!'\n",
    "        )\n",
    "    \n",
    "    def input_grad(self, Y, Y_pred):\n",
    "        # TODO ####################################\n",
    "        # TODO: implement gradient of squared loss\n",
    "        # TODO ####################################\n",
    "        # return np.zeros_like(Y_pred) #FIXME\n",
    "\n",
    "        return Y_pred - Y\n",
    "\n",
    "    def loss(self, Y, Y_pred):\n",
    "        loss = 0.5 * np.square(Y - Y_pred)\n",
    "        return np.mean(np.sum(loss, axis=1))\n",
    "\n",
    "class SoftmaxOutput(Layer, Loss):\n",
    "    \"\"\" A softmax output layer that calculates \n",
    "        the negative log likelihood as loss\n",
    "        and should be used for classification.\n",
    "    \"\"\"\n",
    "    \n",
    "    def __init__(self, input_layer):\n",
    "        self.input_size = input_layer.output_size()\n",
    "        \n",
    "    def output_size(self):\n",
    "        return (1, )\n",
    "    \n",
    "    def fprop(self, input):\n",
    "        return softmax(input)\n",
    "    \n",
    "    def bprop(self, output_grad):\n",
    "        raise NotImplementedError(\n",
    "            'SoftmaxOutput should only be used as the last layer of a Network'\n",
    "            + ' bprop() should thus never be called on it!'\n",
    "        )\n",
    "    \n",
    "    def input_grad(self, Y, Y_pred):    \n",
    "        # TODO #######################################################\n",
    "        # TODO: implement gradient of the negative log likelihood loss\n",
    "        # TODO #######################################################\n",
    "        # HINT: since this would involve taking the log \n",
    "        #       of the softmax (which is np.exp(x)/np.sum(np.exp(x), axis=1))\n",
    "        #       this gradient computation can be simplified a lot! \n",
    "        # return np.zeros_like(Y_pred)\n",
    "        \n",
    "        return Y_pred - Y\n",
    "\n",
    "    def loss(self, Y, Y_pred):    # one_hot encoding, minimize the cross-entropy loss\n",
    "        # Assume one-hot encoding of Y\n",
    "        # calculate softmax first\n",
    "        # out = softmax(Y_pred)        # do we need to implement softmax here again????????\n",
    "        # to make the loss numerically stable \n",
    "        # you may want to add an epsilon in the log ;\n",
    "        # eps = 1e-10\n",
    "        \n",
    "        # TODO ####################################\n",
    "        # calculate negative log likelihood\n",
    "        # TODO ####################################\n",
    "        # loss = np.zeros_like(out) #FIXME \n",
    "\n",
    "        loss = -Y * np.log(Y_pred)\n",
    "        return np.mean(np.sum(loss, axis=1))    "
   ]
  },
  {
   "cell_type": "markdown",
   "metadata": {},
   "source": [
    "# Neural Network class\n",
    "With all layers in place (and properly implemented by you) we can finally define a neural network.\n",
    "For our purposes a neural network is simply a collection of layers which we will cycle through and on which we will call fprop and bprop to compute partial derivatives with respect to the input and the parameters.\n",
    "\n",
    "Pay special attention to the *check_gradients()* function in which you should implement automatic differentiation. This function will become your best friend when checking the correctness of your implementation."
   ]
  },
  {
   "cell_type": "code",
   "execution_count": 129,
   "metadata": {
    "collapsed": false
   },
   "outputs": [],
   "source": [
    "\n",
    "class NeuralNetwork:\n",
    "    \"\"\" Our Neural Network container class.\n",
    "    \"\"\"\n",
    "    def __init__(self, layers, reg):    # Add regularization term\n",
    "        self.layers = layers\n",
    "        self.reg = reg\n",
    "        \n",
    "    def _loss(self, X, Y):    \n",
    "        Y_pred = self.predict(X)\n",
    "        data_loss = self.layers[-1].loss(Y, Y_pred)\n",
    "        reg_loss = 0.0\n",
    "        for layer in self.layers:\n",
    "            if isinstance(layer, Parameterized):\n",
    "               reg_loss += 0.5 * self.reg * np.sum(np.square(layer.params()[0]))\n",
    "                # print \"reg_loss: \", reg_loss\n",
    "        return data_loss\n",
    "\n",
    "    def predict(self, X):\n",
    "        \"\"\" Calculate an output Y for the given input X. \"\"\"\n",
    "        # TODO ##########################################\n",
    "        # TODO: implement forward pass through all layers\n",
    "        # TODO ##########################################\n",
    "        # Y_pred = 0.\n",
    "        for i in range(len(self.layers)):\n",
    "            X_next = self.layers[i].fprop(X)\n",
    "            X = X_next\n",
    "        Y_pred = X_next\n",
    "        return Y_pred\n",
    "    \n",
    "    def backpropagate(self, Y, Y_pred, upto=0):    \n",
    "        \"\"\" Backpropagation of partial derivatives through \n",
    "            the complete network up to layer 'upto'\n",
    "        \"\"\"\n",
    "        next_grad = self.layers[-1].input_grad(Y, Y_pred)    # (64, 10)\n",
    "        \n",
    "        # TODO ##########################################\n",
    "        # TODO: implement backward pass through all layers\n",
    "        # TODO ##########################################\n",
    "        for i in range(len(self.layers)-2, upto-1, -1):\n",
    "            next_grad = self.layers[i].bprop(next_grad)    \n",
    "        return next_grad\n",
    "    \n",
    "    def classification_error(self, X, Y):    \n",
    "        \"\"\" Calculate error on the given data \n",
    "            assuming they are classes that should be predicted. \n",
    "        \"\"\"\n",
    "        Y_pred = unhot(self.predict(X))         # for example [9, 1, 1, 2, 3]\n",
    "        error = Y_pred != Y\n",
    "        return np.mean(error)\n",
    "    \n",
    "    def sgd_epoch(self, X, Y, learning_rate, batch_size):    # one_hot encoding\n",
    "        n_samples = X.shape[0]\n",
    "        n_batches = n_samples // batch_size\n",
    "        for b in range(n_batches):\n",
    "            # TODO #####################################\n",
    "            # Implement stochastic gradient descent here\n",
    "            # TODO #####################################\n",
    "            # start by extracting a batch from X and Y\n",
    "            # (you can assume the inputs are already shuffled)\n",
    "            sample_indices = np.random.choice(np.arange(n_samples), batch_size)\n",
    "            X_batch = X[sample_indices]\n",
    "            Y_batch = Y[sample_indices]\n",
    "\n",
    "            # TODO: then forward and backward propagation + updates\n",
    "            # HINT: layer.params() returns parameters *by reference*\n",
    "            #       so you can easily update in-place\n",
    "            Y_batch_pred = self.predict(X_batch)\n",
    "            next_grad = self.backpropagate(Y_batch, Y_batch_pred, 0)\n",
    "            \n",
    "            for layer in self.layers:\n",
    "                if isinstance(layer, Parameterized):\n",
    "                    for param, grad in zip(layer.params(), layer.grad_params()):\n",
    "                        param += -learning_rate * grad\n",
    "    \n",
    "    def gd_epoch(self, X, Y, learning_rate):        # one_hot encoding\n",
    "        # TODO ##################################################\n",
    "        # Implement batch gradient descent here\n",
    "        # A few hints:\n",
    "        #   There are two strategies you can follow:\n",
    "        #   Either shove the whole dataset throught the network\n",
    "        #   at once (which can be problematic for large datasets)\n",
    "        #   or run through it batch wise as in the sgd approach\n",
    "        #   and accumulate the gradients for all parameters as\n",
    "        #   you go through the data. Either way you should then\n",
    "        #   do one gradient step after you went through the\n",
    "        #   complete dataset!\n",
    "        # TODO ##################################################\n",
    "        Y_pred = self.predict(X)\n",
    "        next_grad = self.backpropagate(Y, Y_pred, 0)\n",
    "        \n",
    "        for layer in self.layers:\n",
    "            if isinstance(layer, Parameterized):\n",
    "                for param, grad in zip(layer.params(), layer.grad_params()):\n",
    "                    param += -learning_rate * grad\n",
    "    \n",
    "    def train(self, X_train, y_train, X_val, y_val, learning_rate=0.1, \n",
    "              max_epochs=100, batch_size=64, descent_type=\"sgd\", y_one_hot=True):\n",
    "        \"\"\" Train network on the given data. \"\"\"\n",
    "        n_samples = X_train.shape[0]\n",
    "        n_batches = n_samples // batch_size\n",
    "        \n",
    "        # store the (train, validation) loss and error\n",
    "        train_loss = np.zeros(max_epochs+1)\n",
    "        train_error = np.zeros(max_epochs+1)\n",
    "        \n",
    "        val_loss = np.zeros(max_epochs+1)\n",
    "        val_error = np.zeros(max_epochs+1)\n",
    "        \n",
    "        if y_one_hot:\n",
    "            Y_train = one_hot(y_train)\n",
    "            Y_val = one_hot(y_val)\n",
    "        else:\n",
    "            Y_train = y_train\n",
    "            Y_val = y_val\n",
    "        print(\"... starting training\")\n",
    "        for e in range(max_epochs+1):\n",
    "            if descent_type == \"sgd\":\n",
    "                self.sgd_epoch(X_train, Y_train, learning_rate, batch_size)\n",
    "            elif descent_type == \"gd\":\n",
    "                self.gd_epoch(X_train, Y_train, learning_rate)\n",
    "            else:\n",
    "                raise NotImplementedError(\"Unknown gradient descent type {}\".format(descent_type))\n",
    "\n",
    "            # Output error on the training data\n",
    "            train_loss[e] = self._loss(X_train, Y_train)    \n",
    "            train_error[e] = self.classification_error(X_train, y_train)    # y_train is not one_hot encoding\n",
    "            print('epoch {:.4f}, loss {:.4f}, train error {:.4f}'.format(e, train_loss[e], train_error[e]))\n",
    "            \n",
    "            # TODO ##################################################\n",
    "            # compute error on validation data:\n",
    "            # simply make the function take validation data as input\n",
    "            # and then compute errors here and print them\n",
    "            # TODO ##################################################\n",
    "            val_loss[e] = self._loss(X_val, Y_val)\n",
    "            val_error[e] = self.classification_error(X_val, y_val)\n",
    "            print('epoch {:.4f}, loss {:.4f}, validation error {:.4f}'.format(e, val_loss[e], val_error[e]))\n",
    "        return train_loss, train_error, val_loss, val_error\n",
    "    \n",
    "    def check_gradients(self, X, Y):\n",
    "        \"\"\" Helper function to test the parameter gradients for\n",
    "        correctness. \"\"\"\n",
    "        for l, layer in enumerate(self.layers):\n",
    "            if isinstance(layer, Parameterized):            # FullyConnectedLayer\n",
    "                print('checking gradient for layer {}'.format(l))\n",
    "                for p, param in enumerate(layer.params()):\n",
    "                    # we iterate through all parameters\n",
    "                    param_shape = param.shape\n",
    "                    \n",
    "                    # define functions for conveniently swapping\n",
    "                    # out parameters of this specific layer and \n",
    "                    # computing loss and gradient with these \n",
    "                    # changed parameters\n",
    "                    def output_given_params(param_new):\n",
    "                        \"\"\" A function that will compute the output \n",
    "                            of the network given a set of parameters\n",
    "                        \"\"\"\n",
    "                        # copy provided parameters\n",
    "                        param[:] = np.reshape(param_new, param_shape)\n",
    "                        \n",
    "                        # return computed loss\n",
    "                        return self._loss(X, Y)\n",
    "\n",
    "                    def grad_given_params(param_new):\n",
    "                        \"\"\"A function that will compute the gradient \n",
    "                           of the network given a set of parameters\n",
    "                        \"\"\"\n",
    "                        # copy provided parameters\n",
    "                        param[:] = np.reshape(param_new, param_shape)\n",
    "                        \n",
    "                        # Forward propagation through the net\n",
    "                        Y_pred = self.predict(X)\n",
    "                        \n",
    "                        # Backpropagation of partial derivatives\n",
    "                        self.backpropagate(Y, Y_pred, upto=l)\n",
    "                        \n",
    "                        # return the computed gradient \n",
    "                        return np.ravel(self.layers[l].grad_params()[p])\n",
    "\n",
    "                    # let the initial parameters be the ones that\n",
    "                    # are currently placed in the network and flatten them\n",
    "                    # to a vector for convenient comparisons, printing etc.\n",
    "                    param_init = np.ravel(np.copy(param))    # the copy will not change even the original changes (W, b)\n",
    "                    \n",
    "                    # TODO ####################################\n",
    "                    # TODO compute the gradient with respect to\n",
    "                    #      the initial parameters in two ways:\n",
    "                    #      1) with grad_given_params()\n",
    "                    #      2) with finite differences \n",
    "                    #         using output_given_params()\n",
    "                    #         (as discussed in the lecture)\n",
    "                    #      if your implementation is correct \n",
    "                    #      both results should be epsilon close\n",
    "                    #      to each other!\n",
    "                    # TODO ####################################\n",
    "                    epsilon = 1e-4\n",
    "                    \n",
    "                    # making sure your gradient checking routine itself \n",
    "                    # has no errors can be a bit tricky. To debug it\n",
    "                    # you can \"cheat\" by using scipy which implements\n",
    "                    # gradient checking exactly the way you should!\n",
    "                    # To do that simply run the following here:\n",
    "                    \n",
    "                    # approach 1\n",
    "                    import scipy.optimize\n",
    "                    err = scipy.optimize.check_grad(output_given_params, \n",
    "                                                    grad_given_params, param_init)\n",
    "                    \n",
    "                    # approach 2\n",
    "                    #loss_base = output_given_params(param_init)    # return the loss\n",
    "                    \n",
    "                    # TODO this should hold the gradient as calculated through bprop\n",
    "                    # gparam_bprop = None\n",
    "                    #gparam_bprop = grad_given_params(param_init)\n",
    "                    \n",
    "                    # TODO this should hold the gradient calculated through \n",
    "                    #      finite differences\n",
    "                    #gparam_fd = np.zeros_like(param_init)\n",
    "                    #ravel_param = np.ravel(param)\n",
    "                    #for i in range(len(ravel_param)):\n",
    "\n",
    "                        #ravel_param[i] += epsilon                                              \n",
    "                        #param[:] = np.reshape(ravel_param, param_shape)\n",
    "                        #loss_after = output_given_params(param)                       \n",
    "                        #gparam_fd[i] = (loss_after - loss_base) / epsilon\n",
    "                        #ravel_param[i] -= epsilon\n",
    "                    \n",
    "                    # calculate difference between them\n",
    "                    #err = np.mean(np.abs(gparam_bprop - gparam_fd))\n",
    "                    \n",
    "                    print('diff {:.2e}'.format(err))\n",
    "                    assert(err < epsilon)\n",
    "                    \n",
    "                    # reset the parameters to their initial values\n",
    "                    param[:] = np.reshape(param_init, param_shape)"
   ]
  },
  {
   "cell_type": "markdown",
   "metadata": {},
   "source": [
    "# Gradient Checking\n",
    "After implementing everything it is always a good idea to setup some layers and perform gradient\n",
    "checking on random data. **Note** that this is only an example! It is not a useful network architecture ;). We also expect you to play around with this to test all your implemented components."
   ]
  },
  {
   "cell_type": "code",
   "execution_count": 81,
   "metadata": {
    "collapsed": false
   },
   "outputs": [],
   "source": [
    "input_shape = (5, 10)\n",
    "n_labels = 10\n",
    "layers = [InputLayer(input_shape)]\n",
    "\n",
    "layers.append(FullyConnectedLayer(\n",
    "                layers[-1],\n",
    "                num_units=256,\n",
    "                init_stddev=0.1,\n",
    "                activation_fun=Activation('relu')\n",
    "))\n",
    "layers.append(FullyConnectedLayer(\n",
    "                layers[-1],\n",
    "                num_units=128,\n",
    "                init_stddev=0.1,\n",
    "                activation_fun=Activation('tanh')\n",
    "))\n",
    "layers.append(FullyConnectedLayer(\n",
    "                layers[-1],\n",
    "                num_units=n_labels,\n",
    "                init_stddev=0.1,\n",
    "                activation_fun=Activation('relu')\n",
    "))\n",
    "layers.append(SoftmaxOutput(layers[-1]))\n",
    "#layers.append(LinearOutput(layers[-1]))\n",
    "\n",
    "nn = NeuralNetwork(layers, reg=0.0)        # gradient check without L2 regularization"
   ]
  },
  {
   "cell_type": "code",
   "execution_count": 82,
   "metadata": {
    "collapsed": false
   },
   "outputs": [],
   "source": [
    "# create random data\n",
    "X = np.random.normal(size=input_shape)\n",
    "# and random labels\n",
    "Y = np.zeros((input_shape[0], n_labels))\n",
    "for i in range(Y.shape[0]):\n",
    "    idx = np.random.randint(n_labels)\n",
    "    Y[i, idx] = 1."
   ]
  },
  {
   "cell_type": "code",
   "execution_count": 83,
   "metadata": {
    "collapsed": false,
    "scrolled": true
   },
   "outputs": [
    {
     "name": "stdout",
     "output_type": "stream",
     "text": [
      "checking gradient for layer 1\n",
      "diff 9.98e-07\n",
      "diff 3.22e-07\n",
      "checking gradient for layer 2\n",
      "diff 3.58e-06\n",
      "diff 1.97e-07\n",
      "checking gradient for layer 3\n",
      "diff 7.10e-07\n",
      "diff 6.26e-08\n"
     ]
    }
   ],
   "source": [
    "nn.check_gradients(X, Y)"
   ]
  },
  {
   "cell_type": "markdown",
   "metadata": {},
   "source": [
    "# Training on MNIST\n",
    "Finally we can let our network run on the MNIST dataset!"
   ]
  },
  {
   "cell_type": "markdown",
   "metadata": {},
   "source": [
    "First load the data and reshape it."
   ]
  },
  {
   "cell_type": "code",
   "execution_count": 84,
   "metadata": {
    "collapsed": false,
    "scrolled": true
   },
   "outputs": [
    {
     "name": "stdout",
     "output_type": "stream",
     "text": [
      "... loading data\n",
      "... done loading data\n"
     ]
    }
   ],
   "source": [
    "# load the data\n",
    "Dtrain, Dval, Dtest = mnist()\n",
    "X_train, y_train = Dtrain\n",
    "X_val, y_val = Dval\n",
    "X_test, y_test = Dtest\n",
    "\n",
    "# Downsample training data to make it a bit faster for testing this code\n",
    "n_train_samples = 50000\n",
    "train_idxs = np.random.permutation(X_train.shape[0])[:n_train_samples]\n",
    "X_train = X_train[train_idxs]\n",
    "y_train = y_train[train_idxs]"
   ]
  },
  {
   "cell_type": "markdown",
   "metadata": {},
   "source": [
    "*Dtrain* contains 50k images which are of size 28 x 28 pixels. Hence:"
   ]
  },
  {
   "cell_type": "code",
   "execution_count": 85,
   "metadata": {
    "collapsed": false
   },
   "outputs": [
    {
     "name": "stdout",
     "output_type": "stream",
     "text": [
      "X_train shape: (50000, 1, 28, 28)\n",
      "y_train shape: (50000,)\n"
     ]
    }
   ],
   "source": [
    "print(\"X_train shape: {}\".format(np.shape(X_train)))\n",
    "print(\"y_train shape: {}\".format(np.shape(y_train)))"
   ]
  },
  {
   "cell_type": "markdown",
   "metadata": {},
   "source": [
    "y_train will automatically be converted in the *train()* function to one_hot encoding.\n",
    "\n",
    "\n",
    "But we need to reshape X_train, as our Network expects flat vectors of size 28*28 as input!"
   ]
  },
  {
   "cell_type": "code",
   "execution_count": 135,
   "metadata": {
    "collapsed": false
   },
   "outputs": [
    {
     "name": "stdout",
     "output_type": "stream",
     "text": [
      "Reshaped X_train size: (50000, 784)\n",
      "Reshaped X_val size: (10000, 784)\n",
      "Reshaped X_test size: (10000, 784)\n"
     ]
    }
   ],
   "source": [
    "X_train = X_train.reshape(X_train.shape[0], -1)\n",
    "X_val = X_val.reshape(X_val.shape[0], -1)\n",
    "X_test = X_test.reshape(X_test.shape[0], -1)\n",
    "\n",
    "print(\"Reshaped X_train size: {}\".format(X_train.shape))\n",
    "print(\"Reshaped X_val size: {}\".format(X_val.shape))\n",
    "print(\"Reshaped X_test size: {}\".format(X_test.shape))"
   ]
  },
  {
   "cell_type": "markdown",
   "metadata": {},
   "source": [
    "Ah, much better ;-)! \n",
    "\n",
    "Now we can finally really start training a Network!\n",
    "\n",
    "\n",
    "I pre-defined a small Network for you below. Again this is not really a good default and will not produce state of the art results. Please play around with this a bit. See how different activation functions and training procedures (gd / sgd) affect the result."
   ]
  },
  {
   "cell_type": "code",
   "execution_count": 143,
   "metadata": {
    "collapsed": false,
    "scrolled": true
   },
   "outputs": [
    {
     "name": "stdout",
     "output_type": "stream",
     "text": [
      "... starting training\n"
     ]
    },
    {
     "ename": "KeyboardInterrupt",
     "evalue": "",
     "output_type": "error",
     "traceback": [
      "\u001b[1;31m---------------------------------------------------------------------------\u001b[0m",
      "\u001b[1;31mKeyboardInterrupt\u001b[0m                         Traceback (most recent call last)",
      "\u001b[1;32m<ipython-input-143-41bf13bf62ce>\u001b[0m in \u001b[0;36m<module>\u001b[1;34m()\u001b[0m\n\u001b[0;32m     40\u001b[0m train_loss, train_error, val_loss, val_error = nn.train(X_train, y_train, X_val, y_val, \n\u001b[0;32m     41\u001b[0m                                                         \u001b[0mlearning_rate\u001b[0m\u001b[1;33m=\u001b[0m\u001b[1;36m0.05\u001b[0m\u001b[1;33m,\u001b[0m \u001b[0mmax_epochs\u001b[0m\u001b[1;33m=\u001b[0m\u001b[1;36m50\u001b[0m\u001b[1;33m,\u001b[0m\u001b[1;33m\u001b[0m\u001b[0m\n\u001b[1;32m---> 42\u001b[1;33m                                                         batch_size=64, descent_type=\"sgd\", y_one_hot=True)\n\u001b[0m\u001b[0;32m     43\u001b[0m \u001b[0mt1\u001b[0m \u001b[1;33m=\u001b[0m \u001b[0mtime\u001b[0m\u001b[1;33m.\u001b[0m\u001b[0mtime\u001b[0m\u001b[1;33m(\u001b[0m\u001b[1;33m)\u001b[0m\u001b[1;33m\u001b[0m\u001b[0m\n\u001b[0;32m     44\u001b[0m \u001b[1;32mprint\u001b[0m\u001b[1;33m(\u001b[0m\u001b[1;34m'Duration: {:.1f}s'\u001b[0m\u001b[1;33m.\u001b[0m\u001b[0mformat\u001b[0m\u001b[1;33m(\u001b[0m\u001b[0mt1\u001b[0m\u001b[1;33m-\u001b[0m\u001b[0mt0\u001b[0m\u001b[1;33m)\u001b[0m\u001b[1;33m)\u001b[0m\u001b[1;33m\u001b[0m\u001b[0m\n",
      "\u001b[1;32m<ipython-input-129-c7b595bc7254>\u001b[0m in \u001b[0;36mtrain\u001b[1;34m(self, X_train, y_train, X_val, y_val, learning_rate, max_epochs, batch_size, descent_type, y_one_hot)\u001b[0m\n\u001b[0;32m    124\u001b[0m \u001b[1;33m\u001b[0m\u001b[0m\n\u001b[0;32m    125\u001b[0m             \u001b[1;31m# Output error on the training data\u001b[0m\u001b[1;33m\u001b[0m\u001b[1;33m\u001b[0m\u001b[0m\n\u001b[1;32m--> 126\u001b[1;33m             \u001b[0mtrain_loss\u001b[0m\u001b[1;33m[\u001b[0m\u001b[0me\u001b[0m\u001b[1;33m]\u001b[0m \u001b[1;33m=\u001b[0m \u001b[0mself\u001b[0m\u001b[1;33m.\u001b[0m\u001b[0m_loss\u001b[0m\u001b[1;33m(\u001b[0m\u001b[0mX_train\u001b[0m\u001b[1;33m,\u001b[0m \u001b[0mY_train\u001b[0m\u001b[1;33m)\u001b[0m\u001b[1;33m\u001b[0m\u001b[0m\n\u001b[0m\u001b[0;32m    127\u001b[0m             \u001b[0mtrain_error\u001b[0m\u001b[1;33m[\u001b[0m\u001b[0me\u001b[0m\u001b[1;33m]\u001b[0m \u001b[1;33m=\u001b[0m \u001b[0mself\u001b[0m\u001b[1;33m.\u001b[0m\u001b[0mclassification_error\u001b[0m\u001b[1;33m(\u001b[0m\u001b[0mX_train\u001b[0m\u001b[1;33m,\u001b[0m \u001b[0my_train\u001b[0m\u001b[1;33m)\u001b[0m    \u001b[1;31m# y_train is not one_hot encoding\u001b[0m\u001b[1;33m\u001b[0m\u001b[0m\n\u001b[0;32m    128\u001b[0m             \u001b[1;32mprint\u001b[0m\u001b[1;33m(\u001b[0m\u001b[1;34m'epoch {:.4f}, loss {:.4f}, train error {:.4f}'\u001b[0m\u001b[1;33m.\u001b[0m\u001b[0mformat\u001b[0m\u001b[1;33m(\u001b[0m\u001b[0me\u001b[0m\u001b[1;33m,\u001b[0m \u001b[0mtrain_loss\u001b[0m\u001b[1;33m[\u001b[0m\u001b[0me\u001b[0m\u001b[1;33m]\u001b[0m\u001b[1;33m,\u001b[0m \u001b[0mtrain_error\u001b[0m\u001b[1;33m[\u001b[0m\u001b[0me\u001b[0m\u001b[1;33m]\u001b[0m\u001b[1;33m)\u001b[0m\u001b[1;33m)\u001b[0m\u001b[1;33m\u001b[0m\u001b[0m\n",
      "\u001b[1;32m<ipython-input-129-c7b595bc7254>\u001b[0m in \u001b[0;36m_loss\u001b[1;34m(self, X, Y)\u001b[0m\n\u001b[0;32m      8\u001b[0m \u001b[1;33m\u001b[0m\u001b[0m\n\u001b[0;32m      9\u001b[0m     \u001b[1;32mdef\u001b[0m \u001b[0m_loss\u001b[0m\u001b[1;33m(\u001b[0m\u001b[0mself\u001b[0m\u001b[1;33m,\u001b[0m \u001b[0mX\u001b[0m\u001b[1;33m,\u001b[0m \u001b[0mY\u001b[0m\u001b[1;33m)\u001b[0m\u001b[1;33m:\u001b[0m\u001b[1;33m\u001b[0m\u001b[0m\n\u001b[1;32m---> 10\u001b[1;33m         \u001b[0mY_pred\u001b[0m \u001b[1;33m=\u001b[0m \u001b[0mself\u001b[0m\u001b[1;33m.\u001b[0m\u001b[0mpredict\u001b[0m\u001b[1;33m(\u001b[0m\u001b[0mX\u001b[0m\u001b[1;33m)\u001b[0m\u001b[1;33m\u001b[0m\u001b[0m\n\u001b[0m\u001b[0;32m     11\u001b[0m         \u001b[0mdata_loss\u001b[0m \u001b[1;33m=\u001b[0m \u001b[0mself\u001b[0m\u001b[1;33m.\u001b[0m\u001b[0mlayers\u001b[0m\u001b[1;33m[\u001b[0m\u001b[1;33m-\u001b[0m\u001b[1;36m1\u001b[0m\u001b[1;33m]\u001b[0m\u001b[1;33m.\u001b[0m\u001b[0mloss\u001b[0m\u001b[1;33m(\u001b[0m\u001b[0mY\u001b[0m\u001b[1;33m,\u001b[0m \u001b[0mY_pred\u001b[0m\u001b[1;33m)\u001b[0m\u001b[1;33m\u001b[0m\u001b[0m\n\u001b[0;32m     12\u001b[0m         \u001b[0mreg_loss\u001b[0m \u001b[1;33m=\u001b[0m \u001b[1;36m0.0\u001b[0m\u001b[1;33m\u001b[0m\u001b[0m\n",
      "\u001b[1;32m<ipython-input-129-c7b595bc7254>\u001b[0m in \u001b[0;36mpredict\u001b[1;34m(self, X)\u001b[0m\n\u001b[0;32m     24\u001b[0m         \u001b[1;31m# Y_pred = 0.\u001b[0m\u001b[1;33m\u001b[0m\u001b[1;33m\u001b[0m\u001b[0m\n\u001b[0;32m     25\u001b[0m         \u001b[1;32mfor\u001b[0m \u001b[0mi\u001b[0m \u001b[1;32min\u001b[0m \u001b[0mrange\u001b[0m\u001b[1;33m(\u001b[0m\u001b[0mlen\u001b[0m\u001b[1;33m(\u001b[0m\u001b[0mself\u001b[0m\u001b[1;33m.\u001b[0m\u001b[0mlayers\u001b[0m\u001b[1;33m)\u001b[0m\u001b[1;33m)\u001b[0m\u001b[1;33m:\u001b[0m\u001b[1;33m\u001b[0m\u001b[0m\n\u001b[1;32m---> 26\u001b[1;33m             \u001b[0mX_next\u001b[0m \u001b[1;33m=\u001b[0m \u001b[0mself\u001b[0m\u001b[1;33m.\u001b[0m\u001b[0mlayers\u001b[0m\u001b[1;33m[\u001b[0m\u001b[0mi\u001b[0m\u001b[1;33m]\u001b[0m\u001b[1;33m.\u001b[0m\u001b[0mfprop\u001b[0m\u001b[1;33m(\u001b[0m\u001b[0mX\u001b[0m\u001b[1;33m)\u001b[0m\u001b[1;33m\u001b[0m\u001b[0m\n\u001b[0m\u001b[0;32m     27\u001b[0m             \u001b[0mX\u001b[0m \u001b[1;33m=\u001b[0m \u001b[0mX_next\u001b[0m\u001b[1;33m\u001b[0m\u001b[0m\n\u001b[0;32m     28\u001b[0m         \u001b[0mY_pred\u001b[0m \u001b[1;33m=\u001b[0m \u001b[0mX_next\u001b[0m\u001b[1;33m\u001b[0m\u001b[0m\n",
      "\u001b[1;32m<ipython-input-79-b72813781431>\u001b[0m in \u001b[0;36mfprop\u001b[1;34m(self, input)\u001b[0m\n\u001b[0;32m    190\u001b[0m             \u001b[1;32mreturn\u001b[0m \u001b[0minput\u001b[0m\u001b[1;33m.\u001b[0m\u001b[0mdot\u001b[0m\u001b[1;33m(\u001b[0m\u001b[0mself\u001b[0m\u001b[1;33m.\u001b[0m\u001b[0mW\u001b[0m\u001b[1;33m)\u001b[0m \u001b[1;33m+\u001b[0m \u001b[0mself\u001b[0m\u001b[1;33m.\u001b[0m\u001b[0mb\u001b[0m\u001b[1;33m\u001b[0m\u001b[0m\n\u001b[0;32m    191\u001b[0m         \u001b[1;32melse\u001b[0m\u001b[1;33m:\u001b[0m\u001b[1;33m\u001b[0m\u001b[0m\n\u001b[1;32m--> 192\u001b[1;33m             \u001b[1;32mreturn\u001b[0m \u001b[0mself\u001b[0m\u001b[1;33m.\u001b[0m\u001b[0mactivation_fun\u001b[0m\u001b[1;33m.\u001b[0m\u001b[0mfprop\u001b[0m\u001b[1;33m(\u001b[0m\u001b[0minput\u001b[0m\u001b[1;33m.\u001b[0m\u001b[0mdot\u001b[0m\u001b[1;33m(\u001b[0m\u001b[0mself\u001b[0m\u001b[1;33m.\u001b[0m\u001b[0mW\u001b[0m\u001b[1;33m)\u001b[0m \u001b[1;33m+\u001b[0m \u001b[0mself\u001b[0m\u001b[1;33m.\u001b[0m\u001b[0mb\u001b[0m\u001b[1;33m)\u001b[0m\u001b[1;33m\u001b[0m\u001b[0m\n\u001b[0m\u001b[0;32m    193\u001b[0m         \u001b[1;31m# raise NotImplementedError(\"You should implement this!\")\u001b[0m\u001b[1;33m\u001b[0m\u001b[1;33m\u001b[0m\u001b[0m\n\u001b[0;32m    194\u001b[0m         \u001b[1;31m# return np.zeros(self.output_size)\u001b[0m\u001b[1;33m\u001b[0m\u001b[1;33m\u001b[0m\u001b[0m\n",
      "\u001b[1;31mKeyboardInterrupt\u001b[0m: "
     ]
    }
   ],
   "source": [
    "import time\n",
    "\n",
    "# Setup a small MLP / Neural Network\n",
    "# we can set the first shape to None here to indicate that\n",
    "# we will input a variable number inputs to the network\n",
    "input_shape = (None, 28*28)\n",
    "layers = [InputLayer(input_shape)]\n",
    "layers.append(FullyConnectedLayer(\n",
    "                layers[-1],\n",
    "                num_units=256,\n",
    "                init_stddev=1.0,\n",
    "                activation_fun=Activation('relu')\n",
    "))\n",
    "layers.append(FullyConnectedLayer(\n",
    "                layers[-1],\n",
    "                num_units=128,\n",
    "                init_stddev=0.1,\n",
    "                activation_fun=Activation('relu')\n",
    "))\n",
    "layers.append(FullyConnectedLayer(\n",
    "                layers[-1],\n",
    "                num_units=64,\n",
    "                init_stddev=0.1,\n",
    "                activation_fun=Activation('relu')\n",
    "))\n",
    "layers.append(FullyConnectedLayer(\n",
    "                layers[-1],\n",
    "                num_units=10,\n",
    "                init_stddev=0.1,\n",
    "                # last layer has no nonlinearity \n",
    "                # (softmax will be applied in the output layer)\n",
    "                activation_fun=Activation('relu') \n",
    "))\n",
    "layers.append(SoftmaxOutput(layers[-1]))\n",
    "#layers.append(LinearOutput(layers[-1]))\n",
    "\n",
    "nn = NeuralNetwork(layers, reg=1e-5)\n",
    "# Train neural network\n",
    "t0 = time.time()\n",
    "train_loss, train_error, val_loss, val_error = nn.train(X_train, y_train, X_val, y_val, \n",
    "                                                        learning_rate=0.05, max_epochs=50, \n",
    "                                                        batch_size=64, descent_type=\"sgd\", y_one_hot=True)\n",
    "t1 = time.time()\n",
    "print('Duration: {:.1f}s'.format(t1-t0))"
   ]
  },
  {
   "cell_type": "markdown",
   "metadata": {
    "collapsed": true
   },
   "source": [
    "# Figure out a reasonable Network that achieves good performance\n",
    "As the last part of this task, setup a network that works well and gets reasonable accuracy, say ~ 1-3 percent error on the **validation set**. \n",
    "Train this network on the complete data and compute the **test error**. \n",
    "\n",
    "Once you have done this, visualize a few digits from the test set that the network gets right as well as a few that the network gets wrong!"
   ]
  },
  {
   "cell_type": "code",
   "execution_count": 131,
   "metadata": {
    "collapsed": false
   },
   "outputs": [
    {
     "data": {
      "text/plain": [
       "0.025899999999999999"
      ]
     },
     "execution_count": 131,
     "metadata": {},
     "output_type": "execute_result"
    }
   ],
   "source": [
    "# Compute the test error\n",
    "nn.classification_error(X_test, y_test)"
   ]
  },
  {
   "cell_type": "code",
   "execution_count": 142,
   "metadata": {
    "collapsed": false
   },
   "outputs": [],
   "source": [
    "plt.subplot(2, 1, 1)\n",
    "plt.plot(np.arange(51), train_error, color='blue', label='training error')\n",
    "plt.plot(np.arange(51), val_error, color='red', label='validation error')\n",
    "plt.ylim([0.0, 1.0])\n",
    "plt.xlabel(\"number of epochs\")\n",
    "plt.ylabel(\"error\")\n",
    "plt.show()"
   ]
  },
  {
   "cell_type": "code",
   "execution_count": 96,
   "metadata": {
    "collapsed": false,
    "scrolled": true
   },
   "outputs": [
    {
     "name": "stdout",
     "output_type": "stream",
     "text": [
      "y_200:  [7 2 1 0 4 1 4 9 5 9 0 6 9 0 1 5 9 7 3 4 9 6 6 5 4 0 7 4 0 1 3 1 3 4 7 2 7\n",
      " 1 2 1 1 7 4 2 3 5 1 2 4 4 6 3 5 5 6 0 4 1 9 5 7 8 9 3 7 4 6 4 3 0 7 0 2 9\n",
      " 1 7 3 2 9 7 7 6 2 7 8 4 7 3 6 1 3 6 9 3 1 4 1 7 6 9 6 0 5 4 9 9 2 1 9 4 8\n",
      " 7 3 9 7 4 4 4 9 2 5 4 7 6 7 9 0 5 8 5 6 6 5 7 8 1 0 1 6 4 6 7 3 1 7 1 8 2\n",
      " 0 2 9 9 5 5 1 5 6 0 3 4 4 6 5 4 6 5 4 5 1 4 4 7 2 3 2 7 1 8 1 8 1 8 5 0 8\n",
      " 9 2 5 0 1 1 1 0 9 0 3 1 6 4 2]\n",
      "P_200:  [7 2 1 0 4 1 4 9 5 9 0 6 9 0 1 5 9 7 3 4 9 6 6 5 4 0 7 4 0 1 3 1 3 4 7 2 7\n",
      " 1 2 1 1 7 4 2 3 5 1 2 4 4 6 3 5 5 6 0 4 1 9 5 7 8 9 3 7 4 6 4 3 0 7 0 2 9\n",
      " 1 7 3 2 9 7 7 6 2 7 8 4 7 3 6 1 3 6 9 3 1 4 1 7 6 9 6 0 5 4 9 9 2 1 9 4 8\n",
      " 7 3 9 7 4 4 4 9 2 5 4 7 6 7 9 0 5 8 5 6 6 5 7 8 1 0 1 6 4 6 7 3 1 7 1 8 2\n",
      " 0 9 9 8 5 5 1 5 6 0 3 4 4 6 5 4 6 5 4 5 1 4 4 7 2 3 2 7 1 8 1 8 1 8 5 0 8\n",
      " 9 2 5 0 1 1 1 0 9 0 3 1 6 4 2]\n"
     ]
    }
   ],
   "source": [
    "# Visualize a few digits from the test set (correctly classified, wrongly classified)\n",
    "X_200 = X_test[:200]\n",
    "y_200 = y_test[:200]\n",
    "P_200 = unhot(nn.predict(X_200))\n",
    "print \"y_200: \", y_200\n",
    "print \"P_200: \", P_200"
   ]
  },
  {
   "cell_type": "code",
   "execution_count": 97,
   "metadata": {
    "collapsed": false
   },
   "outputs": [
    {
     "data": {
      "text/plain": [
       "0.01"
      ]
     },
     "execution_count": 97,
     "metadata": {},
     "output_type": "execute_result"
    }
   ],
   "source": [
    "nn.classification_error(X_200, y_200)"
   ]
  },
  {
   "cell_type": "code",
   "execution_count": 120,
   "metadata": {
    "collapsed": false
   },
   "outputs": [
    {
     "data": {
      "text/plain": [
       "(2, 9, 9, 8)"
      ]
     },
     "execution_count": 120,
     "metadata": {},
     "output_type": "execute_result"
    }
   ],
   "source": [
    "y_200[149], P_200[149], y_200[151], P_200[151]"
   ]
  },
  {
   "cell_type": "markdown",
   "metadata": {},
   "source": [
    "Visualizing some selected digits from **test set** which are **correctly** classified, as well as some digits that are **wrongly** classified."
   ]
  },
  {
   "cell_type": "code",
   "execution_count": 128,
   "metadata": {
    "collapsed": false
   },
   "outputs": [
    {
     "name": "stdout",
     "output_type": "stream",
     "text": [
      "Using matplotlib backend: Qt4Agg\n"
     ]
    },
    {
     "data": {
      "text/plain": [
       "(<matplotlib.image.AxesImage at 0x7f8f2573b1d0>, None)"
      ]
     },
     "execution_count": 128,
     "metadata": {},
     "output_type": "execute_result"
    }
   ],
   "source": [
    "# correctly classified\n",
    "plt.imshow(np.reshape(X_test[0], (28, 28))),\n",
    "plt.imshow(np.reshape(X_test[199], (28, 28)))"
   ]
  },
  {
   "cell_type": "code",
   "execution_count": 126,
   "metadata": {
    "collapsed": false
   },
   "outputs": [
    {
     "data": {
      "text/plain": [
       "<matplotlib.image.AxesImage at 0x7f8f25a01d90>"
      ]
     },
     "execution_count": 126,
     "metadata": {},
     "output_type": "execute_result"
    }
   ],
   "source": [
    "# wrongly classified\n",
    "plt.imshow(np.reshape(X_test[149], (28, 28))),\n",
    "plt.imshow(np.reshape(X_test[151], (28, 28)))"
   ]
  }
 ],
 "metadata": {
  "kernelspec": {
   "display_name": "Python [Root]",
   "language": "python",
   "name": "Python [Root]"
  },
  "language_info": {
   "codemirror_mode": {
    "name": "ipython",
    "version": 2
   },
   "file_extension": ".py",
   "mimetype": "text/x-python",
   "name": "python",
   "nbconvert_exporter": "python",
   "pygments_lexer": "ipython2",
   "version": "2.7.12"
  }
 },
 "nbformat": 4,
 "nbformat_minor": 0
}
